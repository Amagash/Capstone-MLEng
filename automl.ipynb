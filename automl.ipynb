{
  "cells": [
    {
      "cell_type": "markdown",
      "source": [
        "# Automated ML\n",
        "\n",
        "TODO: Import Dependencies. In the cell below, import all the dependencies that you will need to complete the project."
      ],
      "metadata": {}
    },
    {
      "cell_type": "code",
      "source": [
        "import urllib.request\r\n",
        "import json\r\n",
        "import os\r\n",
        "import ssl\r\n",
        "import pandas as pd\r\n",
        "\r\n",
        "from azureml.core import Workspace, Experiment\r\n",
        "from azureml.train.automl import AutoMLConfig\r\n",
        "from azureml.widgets import RunDetails\r\n",
        "from azureml.core.model import InferenceConfig, Model\r\n",
        "from azureml.core.webservice import AciWebservice, Webservice\r\n",
        "from azureml.core.environment import Environment\r\n"
      ],
      "outputs": [],
      "execution_count": null,
      "metadata": {
        "gather": {
          "logged": 1598423888013
        },
        "jupyter": {
          "outputs_hidden": false,
          "source_hidden": false
        },
        "nteract": {
          "transient": {
            "deleting": false
          }
        }
      }
    },
    {
      "cell_type": "markdown",
      "source": [
        "## Dataset\n",
        "\n",
        "### Overview\n",
        "\n",
        "I chose the dataset of [Heart Failure records from Kaggle](https://www.kaggle.com/andrewmvd/heart-failure-clinical-data) because it has a high usability score of 10 meaning that the dataset is easy to understand, machine readable, includes essential metadata and is maintained. It is also a very interesting topic. According to Kaggle, Cardiovascular diseases (CVDs) are the number 1 cause of death globally, accounting for 31% of all deaths worlwide. \n",
        "\n",
        "Environmental and behavioural risk factors such as tobacco use, unhealthy diet and obesity, physical inactivity and harmful use of alcohol could be used as features for estimation models. Being able to estimate the probability of developping a CVD could be of great help for high risk people.\n",
        "\n",
        "The Dataset is tabular with 13 columns (12 features and 1 target variable) and contains 299 rows.\n",
        "\n",
        "The following features are going to be used:\n",
        "\n",
        "|    | Variable name             | Type            | Description                                               | Example           |\n",
        "|----|---------------------------|-----------------|-----------------------------------------------------------|-------------------|\n",
        "| 1  | age                       | numerical       | age of the patient                                        | 25                |\n",
        "| 2  | anaemia                   | boolean         | Decrease of red blood cells or hemoglobin                 | 0 or 1            |\n",
        "| 3  | creatinine_phosphokinase  | numerical       | Level of the CPK enzyme in the blood                      | 542               |\n",
        "| 4  | diabetes                  | boolean         | If the patient has diabetes                               | university.degree |\n",
        "| 5  | ejection_fraction         | numerical       | Percentage of blood leaving the heart at each contraction | 45                |\n",
        "| 6  | high_blood_pressure       | boolean         | If the patient has hypertension                           | 0 or 1            |\n",
        "| 7  | platelets                 | numerical       | Platelets in the blood                                    | 149000            |\n",
        "| 8  | serum_creatinine          | numerical       | Level of serum creatinine in the blood                    | 0.5               |\n",
        "| 9  | serum_sodium              | numerical       | Level of serum sodium in the blood                        | jun               |\n",
        "| 10 | sex                       | boolean         | Woman or man                                              | 0 or 1            |\n",
        "| 11 | smoking                   | boolean         | If the patient smokes                                     | 285               |\n",
        "| 12 | time                      | numerical       | follow-up period (days)                                   | 4                 |\n",
        "|----|---------------------------|-----------------|-----------------------------------------------------------|-------------------|\n",
        "| 21 | DEATH_EVENT [Target]      | boolean         | if the patient deceased during the follow-up period       | 0 or 1            |\n",
        "\n",
        "TODO: Get data. In the cell below, write code to access the data you will be using in this project. Remember that the dataset needs to be external."
      ],
      "metadata": {}
    },
    {
      "cell_type": "code",
      "source": [
        "ws = Workspace.from_config()\n",
        "\n",
        "# choose a name for experiment\n",
        "experiment_name = 'aml-experiment'\n",
        "\n",
        "experiment=Experiment(ws, experiment_name)"
      ],
      "outputs": [],
      "execution_count": 2,
      "metadata": {
        "gather": {
          "logged": 1629650524507
        },
        "jupyter": {
          "outputs_hidden": false,
          "source_hidden": false
        },
        "nteract": {
          "transient": {
            "deleting": false
          }
        }
      }
    },
    {
      "cell_type": "code",
      "source": [
        "dataset = ws.datasets['heart-failure-records']\r\n",
        "df = dataset.to_pandas_dataframe()\r\n",
        "df.describe()"
      ],
      "outputs": [
        {
          "output_type": "execute_result",
          "execution_count": 9,
          "data": {
            "text/plain": "              age  creatinine_phosphokinase  ejection_fraction      platelets  \\\ncount  299.000000                299.000000         299.000000     299.000000   \nmean    60.833893                581.839465          38.083612  263358.029264   \nstd     11.894809                970.287881          11.834841   97804.236869   \nmin     40.000000                 23.000000          14.000000   25100.000000   \n25%     51.000000                116.500000          30.000000  212500.000000   \n50%     60.000000                250.000000          38.000000  262000.000000   \n75%     70.000000                582.000000          45.000000  303500.000000   \nmax     95.000000               7861.000000          80.000000  850000.000000   \n\n       serum_creatinine  serum_sodium        time  \ncount         299.00000    299.000000  299.000000  \nmean            1.39388    136.625418  130.260870  \nstd             1.03451      4.412477   77.614208  \nmin             0.50000    113.000000    4.000000  \n25%             0.90000    134.000000   73.000000  \n50%             1.10000    137.000000  115.000000  \n75%             1.40000    140.000000  203.000000  \nmax             9.40000    148.000000  285.000000  ",
            "text/html": "<div>\n<style scoped>\n    .dataframe tbody tr th:only-of-type {\n        vertical-align: middle;\n    }\n\n    .dataframe tbody tr th {\n        vertical-align: top;\n    }\n\n    .dataframe thead th {\n        text-align: right;\n    }\n</style>\n<table border=\"1\" class=\"dataframe\">\n  <thead>\n    <tr style=\"text-align: right;\">\n      <th></th>\n      <th>age</th>\n      <th>creatinine_phosphokinase</th>\n      <th>ejection_fraction</th>\n      <th>platelets</th>\n      <th>serum_creatinine</th>\n      <th>serum_sodium</th>\n      <th>time</th>\n    </tr>\n  </thead>\n  <tbody>\n    <tr>\n      <th>count</th>\n      <td>299.000000</td>\n      <td>299.000000</td>\n      <td>299.000000</td>\n      <td>299.000000</td>\n      <td>299.00000</td>\n      <td>299.000000</td>\n      <td>299.000000</td>\n    </tr>\n    <tr>\n      <th>mean</th>\n      <td>60.833893</td>\n      <td>581.839465</td>\n      <td>38.083612</td>\n      <td>263358.029264</td>\n      <td>1.39388</td>\n      <td>136.625418</td>\n      <td>130.260870</td>\n    </tr>\n    <tr>\n      <th>std</th>\n      <td>11.894809</td>\n      <td>970.287881</td>\n      <td>11.834841</td>\n      <td>97804.236869</td>\n      <td>1.03451</td>\n      <td>4.412477</td>\n      <td>77.614208</td>\n    </tr>\n    <tr>\n      <th>min</th>\n      <td>40.000000</td>\n      <td>23.000000</td>\n      <td>14.000000</td>\n      <td>25100.000000</td>\n      <td>0.50000</td>\n      <td>113.000000</td>\n      <td>4.000000</td>\n    </tr>\n    <tr>\n      <th>25%</th>\n      <td>51.000000</td>\n      <td>116.500000</td>\n      <td>30.000000</td>\n      <td>212500.000000</td>\n      <td>0.90000</td>\n      <td>134.000000</td>\n      <td>73.000000</td>\n    </tr>\n    <tr>\n      <th>50%</th>\n      <td>60.000000</td>\n      <td>250.000000</td>\n      <td>38.000000</td>\n      <td>262000.000000</td>\n      <td>1.10000</td>\n      <td>137.000000</td>\n      <td>115.000000</td>\n    </tr>\n    <tr>\n      <th>75%</th>\n      <td>70.000000</td>\n      <td>582.000000</td>\n      <td>45.000000</td>\n      <td>303500.000000</td>\n      <td>1.40000</td>\n      <td>140.000000</td>\n      <td>203.000000</td>\n    </tr>\n    <tr>\n      <th>max</th>\n      <td>95.000000</td>\n      <td>7861.000000</td>\n      <td>80.000000</td>\n      <td>850000.000000</td>\n      <td>9.40000</td>\n      <td>148.000000</td>\n      <td>285.000000</td>\n    </tr>\n  </tbody>\n</table>\n</div>"
          },
          "metadata": {}
        }
      ],
      "execution_count": 9,
      "metadata": {
        "collapsed": true,
        "jupyter": {
          "source_hidden": false,
          "outputs_hidden": false
        },
        "nteract": {
          "transient": {
            "deleting": false
          }
        },
        "gather": {
          "logged": 1629650907878
        }
      }
    },
    {
      "cell_type": "markdown",
      "source": [
        "## AutoML Configuration\n",
        "\n",
        "TODO: Explain why you chose the automl settings and cofiguration you used below."
      ],
      "metadata": {}
    },
    {
      "cell_type": "markdown",
      "source": [
        "Automl Settings:\r\n",
        "\r\n",
        "| Parameter | Description | Value | Reason |\r\n",
        "|-----------|-------------|-------| ------------|\r\n",
        "| experiment_timeout_minutes | The maximum amount of time (in minutes) that the experiment is allowed to run before it is automatically stopped and results are automatically made available. | 20 | I would like the experience to timout after 20 minutes because I wanted to limit my spendings considering that I am using my personal Azure Account. |\r\n",
        "| max_concurrent_iterations | The maximum number of concurrent training iterations allowed for the experiment. | 3 | AmlCompute clusters support one interation running per node so it should be less than or equal to the max number of nodes in the cluster. |\r\n",
        "| primary_metric | The primary metric used to determine the experiment's status. | AUC_weighted |I chose to monitor the AUC_weighted primary metric because accuracy, average_precision_score_weighted, norm_macro_recall, and precision_score_weighted may not optimize as well for datasets which are small like in our dataset with only 299 rows. |\r\n",
        "\r\n",
        "Automl Config:\r\n",
        "\r\n",
        "| Parameter | Description | Value | Reason |\r\n",
        "|-----------|-------------|-------|------------|\r\n",
        "| compute_target | The compute instance that will run the job | compute_target | I chose the cluster specifically created as compute_target|\r\n",
        "| task | The type of task to be solved. | classification | I wanted the model to return weither if a person is likely to have heart failure or not, therefore classification was better suited than regression or forecasting for this task.  |\r\n",
        "| training_data | The dataset to be used for training. | dataset | NA |\r\n",
        "| label_column_name | The name of the column containing the label. | DEATH_EVENT | NA |\r\n",
        "| enable_early_stopping | Enable early stopping. | True | I set this to true to save compute time and therefore save money |\r\n",
        "| featurization | The featurization method to be used. | auto | This allowed data check through the Data guardrails |\r\n",
        "| debug_log | The path to the log file. | automl_errors.log | This allows me to check the logs in case of debugging |\r\n",
        "\r\n",
        "\r\n",
        "\r\n"
      ],
      "metadata": {
        "nteract": {
          "transient": {
            "deleting": false
          }
        }
      }
    },
    {
      "cell_type": "code",
      "source": [
        "amlcompute_cluster_name = \"heart-f-cluster\"\r\n",
        "cts = ws.compute_targets\r\n",
        "compute_target = cts[amlcompute_cluster_name]"
      ],
      "outputs": [],
      "execution_count": 10,
      "metadata": {
        "collapsed": true,
        "jupyter": {
          "source_hidden": false,
          "outputs_hidden": false
        },
        "nteract": {
          "transient": {
            "deleting": false
          }
        },
        "gather": {
          "logged": 1629651143656
        }
      }
    },
    {
      "cell_type": "code",
      "source": [
        "project_folder = './aml-project'\n",
        "\n",
        "# TODO: Put your automl settings here\n",
        "automl_settings = {\n",
        "    \"experiment_timeout_minutes\": 20,\n",
        "    \"max_concurrent_iterations\": 3,\n",
        "    \"primary_metric\" : 'AUC_weighted'\n",
        "}\n",
        "\n",
        "# TODO: Put your automl config here\n",
        "automl_config = AutoMLConfig(compute_target=compute_target,\n",
        "                             task = \"classification\",\n",
        "                             training_data=dataset,\n",
        "                             label_column_name=\"DEATH_EVENT\",\n",
        "                             path = project_folder,  \n",
        "                             enable_early_stopping= True,\n",
        "                             featurization= 'auto',\n",
        "                             debug_log = \"automl_errors.log\",\n",
        "                             **automl_settings\n",
        "                            )"
      ],
      "outputs": [],
      "execution_count": 14,
      "metadata": {
        "gather": {
          "logged": 1629651411926
        },
        "jupyter": {
          "outputs_hidden": false,
          "source_hidden": false
        },
        "nteract": {
          "transient": {
            "deleting": false
          }
        }
      }
    },
    {
      "cell_type": "code",
      "source": [
        "# TODO: Submit your experiment\n",
        "remote_run = experiment.submit(automl_config)"
      ],
      "outputs": [
        {
          "output_type": "stream",
          "name": "stdout",
          "text": [
            "Submitting remote run.\n"
          ]
        },
        {
          "output_type": "display_data",
          "data": {
            "text/plain": "<IPython.core.display.HTML object>",
            "text/html": "<table style=\"width:100%\"><tr><th>Experiment</th><th>Id</th><th>Type</th><th>Status</th><th>Details Page</th><th>Docs Page</th></tr><tr><td>aml-experiment</td><td>AutoML_323a97c6-9e35-4d8f-b68f-1ee814cf808e</td><td>automl</td><td>NotStarted</td><td><a href=\"https://ml.azure.com/runs/AutoML_323a97c6-9e35-4d8f-b68f-1ee814cf808e?wsid=/subscriptions/2a3b9c06-13fd-4499-8d62-0323ea7c8399/resourcegroups/networkwatcherrg/workspaces/ml-workspace&amp;tid=1877b446-2ff7-4a58-b640-4d9c006695a8\" target=\"_blank\" rel=\"noopener\">Link to Azure Machine Learning studio</a></td><td><a href=\"https://docs.microsoft.com/en-us/python/api/overview/azure/ml/intro?view=azure-ml-py\" target=\"_blank\" rel=\"noopener\">Link to Documentation</a></td></tr></table>"
          },
          "metadata": {}
        }
      ],
      "execution_count": 15,
      "metadata": {
        "gather": {
          "logged": 1629651418572
        },
        "jupyter": {
          "outputs_hidden": false,
          "source_hidden": false
        },
        "nteract": {
          "transient": {
            "deleting": false
          }
        }
      }
    },
    {
      "cell_type": "markdown",
      "source": [
        "## Run Details\n",
        "\n",
        "OPTIONAL: Write about the different models trained and their performance. Why do you think some models did better than others?\n",
        "Different models were trained using different algorithms such as StandardScalerWrapper, ExtremeRandomTrees, MinMaxScaler, RandomForest... But the most performant one is the VotingEnsemble. It's performance relies on the fact that it combines the predictions from multiple other models. Here are the ensembled algorithms used : 'ExtremeRandomTrees', 'RandomForest', 'RandomForest', 'XGBoostClassifier', 'LightGBM', 'ExtremeRandomTrees', 'XGBoostClassifier', 'RandomForest', 'XGBoostClassifier', 'LightGBM', 'XGBoostClassifier', 'ExtremeRandomTrees'\n",
        "\n",
        "\n",
        "TODO: In the cell below, use the `RunDetails` widget to show the different experiments."
      ],
      "metadata": {}
    },
    {
      "cell_type": "code",
      "source": [
        "RunDetails(remote_run).show()"
      ],
      "outputs": [
        {
          "output_type": "display_data",
          "data": {
            "text/plain": "_AutoMLWidget(widget_settings={'childWidgetDisplay': 'popup', 'send_telemetry': False, 'log_level': 'INFO', 's…",
            "application/vnd.jupyter.widget-view+json": {
              "version_major": 2,
              "version_minor": 0,
              "model_id": "cad8a462221242058f5fa8c384747dc6"
            }
          },
          "metadata": {}
        },
        {
          "output_type": "display_data",
          "data": {
            "application/aml.mini.widget.v1": "{\"status\": \"Completed\", \"workbench_run_details_uri\": \"https://ml.azure.com/runs/AutoML_323a97c6-9e35-4d8f-b68f-1ee814cf808e?wsid=/subscriptions/2a3b9c06-13fd-4499-8d62-0323ea7c8399/resourcegroups/networkwatcherrg/workspaces/ml-workspace&tid=1877b446-2ff7-4a58-b640-4d9c006695a8\", \"run_id\": \"AutoML_323a97c6-9e35-4d8f-b68f-1ee814cf808e\", \"run_properties\": {\"run_id\": \"AutoML_323a97c6-9e35-4d8f-b68f-1ee814cf808e\", \"created_utc\": \"2021-08-22T16:56:55.971231Z\", \"properties\": {\"num_iterations\": \"1000\", \"training_type\": \"TrainFull\", \"acquisition_function\": \"EI\", \"primary_metric\": \"AUC_weighted\", \"train_split\": \"0\", \"acquisition_parameter\": \"0\", \"num_cross_validation\": null, \"target\": \"heart-f-cluster\", \"AMLSettingsJsonString\": \"{\\\"path\\\":null,\\\"name\\\":\\\"aml-experiment\\\",\\\"subscription_id\\\":\\\"2a3b9c06-13fd-4499-8d62-0323ea7c8399\\\",\\\"resource_group\\\":\\\"networkwatcherrg\\\",\\\"workspace_name\\\":\\\"ml-workspace\\\",\\\"region\\\":\\\"centralus\\\",\\\"compute_target\\\":\\\"heart-f-cluster\\\",\\\"spark_service\\\":null,\\\"azure_service\\\":\\\"remote\\\",\\\"many_models\\\":false,\\\"pipeline_fetch_max_batch_size\\\":1,\\\"enable_batch_run\\\":false,\\\"enable_run_restructure\\\":false,\\\"start_auxiliary_runs_before_parent_complete\\\":false,\\\"enable_code_generation\\\":false,\\\"iterations\\\":1000,\\\"primary_metric\\\":\\\"AUC_weighted\\\",\\\"task_type\\\":\\\"classification\\\",\\\"data_script\\\":null,\\\"test_size\\\":0.0,\\\"validation_size\\\":0.0,\\\"n_cross_validations\\\":null,\\\"y_min\\\":null,\\\"y_max\\\":null,\\\"num_classes\\\":null,\\\"featurization\\\":\\\"auto\\\",\\\"_ignore_package_version_incompatibilities\\\":false,\\\"is_timeseries\\\":false,\\\"max_cores_per_iteration\\\":1,\\\"max_concurrent_iterations\\\":5,\\\"iteration_timeout_minutes\\\":null,\\\"mem_in_mb\\\":null,\\\"enforce_time_on_windows\\\":false,\\\"experiment_timeout_minutes\\\":20,\\\"experiment_exit_score\\\":null,\\\"whitelist_models\\\":null,\\\"blacklist_algos\\\":[\\\"TensorFlowLinearClassifier\\\",\\\"TensorFlowDNN\\\"],\\\"supported_models\\\":[\\\"MultinomialNaiveBayes\\\",\\\"TensorFlowLinearClassifier\\\",\\\"XGBoostClassifier\\\",\\\"GradientBoosting\\\",\\\"DecisionTree\\\",\\\"AveragedPerceptronClassifier\\\",\\\"BernoulliNaiveBayes\\\",\\\"KNN\\\",\\\"LinearSVM\\\",\\\"ExtremeRandomTrees\\\",\\\"LightGBM\\\",\\\"SVM\\\",\\\"TensorFlowDNN\\\",\\\"LogisticRegression\\\",\\\"RandomForest\\\",\\\"SGD\\\"],\\\"private_models\\\":[],\\\"auto_blacklist\\\":true,\\\"blacklist_samples_reached\\\":false,\\\"exclude_nan_labels\\\":true,\\\"verbosity\\\":20,\\\"_debug_log\\\":\\\"azureml_automl.log\\\",\\\"show_warnings\\\":false,\\\"model_explainability\\\":true,\\\"service_url\\\":null,\\\"sdk_url\\\":null,\\\"sdk_packages\\\":null,\\\"enable_onnx_compatible_models\\\":false,\\\"enable_split_onnx_featurizer_estimator_models\\\":false,\\\"vm_type\\\":\\\"STANDARD_DS3_V2\\\",\\\"telemetry_verbosity\\\":20,\\\"send_telemetry\\\":true,\\\"enable_dnn\\\":false,\\\"scenario\\\":\\\"SDK-1.13.0\\\",\\\"environment_label\\\":null,\\\"save_mlflow\\\":false,\\\"force_text_dnn\\\":false,\\\"enable_feature_sweeping\\\":true,\\\"enable_early_stopping\\\":true,\\\"early_stopping_n_iters\\\":10,\\\"metrics\\\":null,\\\"enable_metric_confidence\\\":false,\\\"enable_ensembling\\\":true,\\\"enable_stack_ensembling\\\":true,\\\"ensemble_iterations\\\":15,\\\"enable_tf\\\":false,\\\"enable_subsampling\\\":null,\\\"subsample_seed\\\":null,\\\"enable_nimbusml\\\":false,\\\"enable_streaming\\\":false,\\\"force_streaming\\\":false,\\\"track_child_runs\\\":true,\\\"allowed_private_models\\\":[],\\\"label_column_name\\\":\\\"DEATH_EVENT\\\",\\\"weight_column_name\\\":null,\\\"cv_split_column_names\\\":null,\\\"enable_local_managed\\\":false,\\\"_local_managed_run_id\\\":null,\\\"cost_mode\\\":1,\\\"lag_length\\\":0,\\\"metric_operation\\\":\\\"maximize\\\",\\\"preprocess\\\":true}\", \"DataPrepJsonString\": \"{\\\\\\\"training_data\\\\\\\": {\\\\\\\"datasetId\\\\\\\": \\\\\\\"d23a1d65-081c-43d2-8541-dcfc67dedc3e\\\\\\\"}, \\\\\\\"datasets\\\\\\\": 0}\", \"EnableSubsampling\": null, \"runTemplate\": \"AutoML\", \"azureml.runsource\": \"automl\", \"display_task_type\": \"classification\", \"dependencies_versions\": \"{\\\"azureml-widgets\\\": \\\"1.33.0\\\", \\\"azureml-train\\\": \\\"1.33.0\\\", \\\"azureml-train-restclients-hyperdrive\\\": \\\"1.33.0\\\", \\\"azureml-train-core\\\": \\\"1.33.0\\\", \\\"azureml-train-automl\\\": \\\"1.33.0\\\", \\\"azureml-train-automl-runtime\\\": \\\"1.33.0\\\", \\\"azureml-train-automl-client\\\": \\\"1.33.0\\\", \\\"azureml-tensorboard\\\": \\\"1.33.0\\\", \\\"azureml-telemetry\\\": \\\"1.33.0\\\", \\\"azureml-sdk\\\": \\\"1.33.0\\\", \\\"azureml-samples\\\": \\\"0+unknown\\\", \\\"azureml-responsibleai\\\": \\\"1.33.0\\\", \\\"azureml-pipeline\\\": \\\"1.33.0\\\", \\\"azureml-pipeline-steps\\\": \\\"1.33.0\\\", \\\"azureml-pipeline-core\\\": \\\"1.33.0\\\", \\\"azureml-opendatasets\\\": \\\"1.33.0\\\", \\\"azureml-mlflow\\\": \\\"1.33.0\\\", \\\"azureml-interpret\\\": \\\"1.33.0\\\", \\\"azureml-explain-model\\\": \\\"1.33.0\\\", \\\"azureml-defaults\\\": \\\"1.33.0\\\", \\\"azureml-dataset-runtime\\\": \\\"1.33.0\\\", \\\"azureml-dataprep\\\": \\\"2.20.1\\\", \\\"azureml-dataprep-rslex\\\": \\\"1.18.0\\\", \\\"azureml-dataprep-native\\\": \\\"38.0.0\\\", \\\"azureml-datadrift\\\": \\\"1.33.0\\\", \\\"azureml-core\\\": \\\"1.33.0\\\", \\\"azureml-contrib-services\\\": \\\"1.33.0\\\", \\\"azureml-contrib-server\\\": \\\"1.33.0\\\", \\\"azureml-contrib-reinforcementlearning\\\": \\\"1.33.0\\\", \\\"azureml-contrib-pipeline-steps\\\": \\\"1.33.0\\\", \\\"azureml-contrib-notebook\\\": \\\"1.33.0\\\", \\\"azureml-contrib-fairness\\\": \\\"1.33.0\\\", \\\"azureml-contrib-dataset\\\": \\\"1.33.0\\\", \\\"azureml-cli-common\\\": \\\"1.33.0\\\", \\\"azureml-automl-runtime\\\": \\\"1.33.0\\\", \\\"azureml-automl-dnn-nlp\\\": \\\"1.33.0\\\", \\\"azureml-automl-core\\\": \\\"1.33.0\\\", \\\"azureml-accel-models\\\": \\\"1.33.0\\\"}\", \"_aml_system_scenario_identification\": \"Remote.Parent\", \"ClientType\": \"SDK\", \"environment_cpu_name\": \"AzureML-AutoML\", \"environment_cpu_label\": \"prod\", \"environment_gpu_name\": \"AzureML-AutoML-GPU\", \"environment_gpu_label\": \"prod\", \"root_attribution\": \"automl\", \"attribution\": \"AutoML\", \"Orchestrator\": \"AutoML\", \"CancelUri\": \"https://centralus.api.azureml.ms/jasmine/v1.0/subscriptions/2a3b9c06-13fd-4499-8d62-0323ea7c8399/resourceGroups/networkwatcherrg/providers/Microsoft.MachineLearningServices/workspaces/ml-workspace/experimentids/339c53fb-00de-4368-9120-717c15155b0a/cancel/AutoML_323a97c6-9e35-4d8f-b68f-1ee814cf808e\", \"ClientSdkVersion\": \"1.33.0\", \"snapshotId\": \"00000000-0000-0000-0000-000000000000\", \"SetupRunId\": \"AutoML_323a97c6-9e35-4d8f-b68f-1ee814cf808e_setup\", \"SetupRunContainerId\": \"dcid.AutoML_323a97c6-9e35-4d8f-b68f-1ee814cf808e_setup\", \"FeaturizationRunJsonPath\": \"featurizer_container.json\", \"FeaturizationRunId\": \"AutoML_323a97c6-9e35-4d8f-b68f-1ee814cf808e_featurize\", \"ProblemInfoJsonString\": \"{\\\"dataset_num_categorical\\\": 0, \\\"is_sparse\\\": false, \\\"subsampling\\\": false, \\\"has_extra_col\\\": true, \\\"dataset_classes\\\": 2, \\\"dataset_features\\\": 12, \\\"dataset_samples\\\": 299, \\\"single_frequency_class_detected\\\": false}\", \"ModelExplainRunId\": \"AutoML_323a97c6-9e35-4d8f-b68f-1ee814cf808e_ModelExplain\"}, \"tags\": {\"model_explain_run\": \"best_run\", \"_aml_system_azureml.automlComponent\": \"AutoML\", \"pipeline_id\": \"\", \"score\": \"\", \"predicted_cost\": \"\", \"fit_time\": \"\", \"training_percent\": \"\", \"iteration\": \"\", \"run_preprocessor\": \"\", \"run_algorithm\": \"\", \"dynamic_whitelisting_iterations\": \"<25>;<30>;<35>;\", \"automl_best_child_run_id\": \"AutoML_323a97c6-9e35-4d8f-b68f-1ee814cf808e_37\", \"model_explain_best_run_child_id\": \"AutoML_323a97c6-9e35-4d8f-b68f-1ee814cf808e_37\"}, \"end_time_utc\": \"2021-08-22T17:22:50.045188Z\", \"status\": \"Completed\", \"log_files\": {}, \"log_groups\": [], \"run_duration\": \"0:25:54\", \"run_number\": \"1\", \"run_queued_details\": {\"status\": \"Completed\", \"details\": null}}, \"child_runs\": [{\"run_id\": \"AutoML_323a97c6-9e35-4d8f-b68f-1ee814cf808e_0\", \"run_number\": 5, \"metric\": null, \"status\": \"Completed\", \"run_type\": \"azureml.scriptrun\", \"training_percent\": \"100\", \"start_time\": \"2021-08-22T17:03:02.1508Z\", \"end_time\": \"2021-08-22T17:03:39.493664Z\", \"created_time\": \"2021-08-22T17:00:46.768471Z\", \"created_time_dt\": \"2021-08-22T17:00:46.768471Z\", \"duration\": \"0:02:52\", \"iteration\": \"0\", \"goal\": \"AUC_weighted_max\", \"run_name\": \"MaxAbsScaler, LightGBM\", \"run_properties\": \"copy=True\", \"primary_metric\": 0.88409554, \"best_metric\": 0.88409554}, {\"run_id\": \"AutoML_323a97c6-9e35-4d8f-b68f-1ee814cf808e_3\", \"run_number\": 6, \"metric\": null, \"status\": \"Completed\", \"run_type\": \"azureml.scriptrun\", \"training_percent\": \"100\", \"start_time\": \"2021-08-22T17:05:39.965144Z\", \"end_time\": \"2021-08-22T17:06:18.159117Z\", \"created_time\": \"2021-08-22T17:00:46.76796Z\", \"created_time_dt\": \"2021-08-22T17:00:46.76796Z\", \"duration\": \"0:05:31\", \"iteration\": \"3\", \"goal\": \"AUC_weighted_max\", \"run_name\": \"MaxAbsScaler, RandomForest\", \"run_properties\": \"copy=True\", \"primary_metric\": 0.88487811, \"best_metric\": 0.88487811}, {\"run_id\": \"AutoML_323a97c6-9e35-4d8f-b68f-1ee814cf808e_1\", \"run_number\": 7, \"metric\": null, \"status\": \"Completed\", \"run_type\": \"azureml.scriptrun\", \"training_percent\": \"100\", \"start_time\": \"2021-08-22T17:04:48.298897Z\", \"end_time\": \"2021-08-22T17:05:25.532166Z\", \"created_time\": \"2021-08-22T17:00:46.777794Z\", \"created_time_dt\": \"2021-08-22T17:00:46.777794Z\", \"duration\": \"0:04:38\", \"iteration\": \"1\", \"goal\": \"AUC_weighted_max\", \"run_name\": \"MaxAbsScaler, XGBoostClassifier\", \"run_properties\": \"copy=True\", \"primary_metric\": 0.88473694, \"best_metric\": 0.88473694}, {\"run_id\": \"AutoML_323a97c6-9e35-4d8f-b68f-1ee814cf808e_2\", \"run_number\": 8, \"metric\": null, \"status\": \"Completed\", \"run_type\": \"azureml.scriptrun\", \"training_percent\": \"100\", \"start_time\": \"2021-08-22T17:02:10.936194Z\", \"end_time\": \"2021-08-22T17:02:46.935375Z\", \"created_time\": \"2021-08-22T17:00:46.800397Z\", \"created_time_dt\": \"2021-08-22T17:00:46.800397Z\", \"duration\": \"0:02:00\", \"iteration\": \"2\", \"goal\": \"AUC_weighted_max\", \"run_name\": \"MaxAbsScaler, ExtremeRandomTrees\", \"run_properties\": \"copy=True\", \"primary_metric\": 0.8821622, \"best_metric\": 0.88473694}, {\"run_id\": \"AutoML_323a97c6-9e35-4d8f-b68f-1ee814cf808e_4\", \"run_number\": 9, \"metric\": null, \"status\": \"Completed\", \"run_type\": \"azureml.scriptrun\", \"training_percent\": \"100\", \"start_time\": \"2021-08-22T17:03:53.783869Z\", \"end_time\": \"2021-08-22T17:04:31.375638Z\", \"created_time\": \"2021-08-22T17:00:46.777494Z\", \"created_time_dt\": \"2021-08-22T17:00:46.777494Z\", \"duration\": \"0:03:44\", \"iteration\": \"4\", \"goal\": \"AUC_weighted_max\", \"run_name\": \"StandardScalerWrapper, LightGBM\", \"run_properties\": \"\\n    copy=True,\\n    with_mean=False,\\n    with_std=True\\n\", \"primary_metric\": 0.9028613, \"best_metric\": 0.9028613}, {\"run_id\": \"AutoML_323a97c6-9e35-4d8f-b68f-1ee814cf808e_5\", \"run_number\": 10, \"metric\": null, \"status\": \"Completed\", \"run_type\": \"azureml.scriptrun\", \"training_percent\": \"100\", \"start_time\": \"2021-08-22T17:07:49.929121Z\", \"end_time\": \"2021-08-22T17:08:39.189787Z\", \"created_time\": \"2021-08-22T17:02:49.551843Z\", \"created_time_dt\": \"2021-08-22T17:02:49.551843Z\", \"duration\": \"0:05:49\", \"iteration\": \"5\", \"goal\": \"AUC_weighted_max\", \"run_name\": \"StandardScalerWrapper, KNN\", \"run_properties\": \"\\n    copy=True,\\n    with_mean=True,\\n    with_std=False\\n\", \"primary_metric\": 0.50585726, \"best_metric\": 0.9028613}, {\"run_id\": \"AutoML_323a97c6-9e35-4d8f-b68f-1ee814cf808e_6\", \"run_number\": 11, \"metric\": null, \"status\": \"Completed\", \"run_type\": \"azureml.scriptrun\", \"training_percent\": \"100\", \"start_time\": \"2021-08-22T17:08:52.493078Z\", \"end_time\": \"2021-08-22T17:09:28.996156Z\", \"created_time\": \"2021-08-22T17:03:41.859977Z\", \"created_time_dt\": \"2021-08-22T17:03:41.859977Z\", \"duration\": \"0:05:47\", \"iteration\": \"6\", \"goal\": \"AUC_weighted_max\", \"run_name\": \"SparseNormalizer, XGBoostClassifier\", \"run_properties\": \"copy=True, norm='max'\", \"primary_metric\": 0.86723315, \"best_metric\": 0.9028613}, {\"run_id\": \"AutoML_323a97c6-9e35-4d8f-b68f-1ee814cf808e_7\", \"run_number\": 12, \"metric\": null, \"status\": \"Completed\", \"run_type\": \"azureml.scriptrun\", \"training_percent\": \"100\", \"start_time\": \"2021-08-22T17:09:45.202499Z\", \"end_time\": \"2021-08-22T17:10:29.306917Z\", \"created_time\": \"2021-08-22T17:04:33.999597Z\", \"created_time_dt\": \"2021-08-22T17:04:33.999597Z\", \"duration\": \"0:05:55\", \"iteration\": \"7\", \"goal\": \"AUC_weighted_max\", \"run_name\": \"SparseNormalizer, RandomForest\", \"run_properties\": \"copy=True, norm='l2'\", \"primary_metric\": 0.89280915, \"best_metric\": 0.9028613}, {\"run_id\": \"AutoML_323a97c6-9e35-4d8f-b68f-1ee814cf808e_8\", \"run_number\": 13, \"metric\": null, \"status\": \"Completed\", \"run_type\": \"azureml.scriptrun\", \"training_percent\": \"100\", \"start_time\": \"2021-08-22T17:10:45.745008Z\", \"end_time\": \"2021-08-22T17:11:21.66591Z\", \"created_time\": \"2021-08-22T17:05:27.962013Z\", \"created_time_dt\": \"2021-08-22T17:05:27.962013Z\", \"duration\": \"0:05:53\", \"iteration\": \"8\", \"goal\": \"AUC_weighted_max\", \"run_name\": \"RobustScaler, KNN\", \"run_properties\": \"copy=True, quantile_range=[25, 75], with_centering=False,\\n             with_scaling=True\", \"primary_metric\": 0.83326588, \"best_metric\": 0.9028613}, {\"run_id\": \"AutoML_323a97c6-9e35-4d8f-b68f-1ee814cf808e_9\", \"run_number\": 14, \"metric\": null, \"status\": \"Completed\", \"run_type\": \"azureml.scriptrun\", \"training_percent\": \"100\", \"start_time\": \"2021-08-22T17:11:36.652682Z\", \"end_time\": \"2021-08-22T17:13:02.701555Z\", \"created_time\": \"2021-08-22T17:06:20.595125Z\", \"created_time_dt\": \"2021-08-22T17:06:20.595125Z\", \"duration\": \"0:06:42\", \"iteration\": \"9\", \"goal\": \"AUC_weighted_max\", \"run_name\": \"MinMaxScaler, RandomForest\", \"run_properties\": \"copy=True, feature_range=(0, 1\", \"primary_metric\": 0.8978565, \"best_metric\": 0.9028613}, {\"run_id\": \"AutoML_323a97c6-9e35-4d8f-b68f-1ee814cf808e_10\", \"run_number\": 15, \"metric\": null, \"status\": \"Completed\", \"run_type\": \"azureml.scriptrun\", \"training_percent\": \"100\", \"start_time\": \"2021-08-22T17:11:37.267108Z\", \"end_time\": \"2021-08-22T17:12:13.602745Z\", \"created_time\": \"2021-08-22T17:08:41.763464Z\", \"created_time_dt\": \"2021-08-22T17:08:41.763464Z\", \"duration\": \"0:03:31\", \"iteration\": \"10\", \"goal\": \"AUC_weighted_max\", \"run_name\": \"StandardScalerWrapper, LogisticRegression\", \"run_properties\": \"\\n    copy=True,\\n    with_mean=True,\\n    with_std=True\\n\", \"primary_metric\": 0.86383871, \"best_metric\": 0.9028613}, {\"run_id\": \"AutoML_323a97c6-9e35-4d8f-b68f-1ee814cf808e_11\", \"run_number\": 16, \"metric\": null, \"status\": \"Completed\", \"run_type\": \"azureml.scriptrun\", \"training_percent\": \"100\", \"start_time\": \"2021-08-22T17:12:28.602302Z\", \"end_time\": \"2021-08-22T17:13:05.360998Z\", \"created_time\": \"2021-08-22T17:09:31.632997Z\", \"created_time_dt\": \"2021-08-22T17:09:31.632997Z\", \"duration\": \"0:03:33\", \"iteration\": \"11\", \"goal\": \"AUC_weighted_max\", \"run_name\": \"StandardScalerWrapper, SVM\", \"run_properties\": \"\\n    copy=True,\\n    with_mean=True,\\n    with_std=True\\n\", \"primary_metric\": 0.79962588, \"best_metric\": 0.9028613}, {\"run_id\": \"AutoML_323a97c6-9e35-4d8f-b68f-1ee814cf808e_12\", \"run_number\": 17, \"metric\": null, \"status\": \"Completed\", \"run_type\": \"azureml.scriptrun\", \"training_percent\": \"100\", \"start_time\": \"2021-08-22T17:13:17.928439Z\", \"end_time\": \"2021-08-22T17:13:55.684246Z\", \"created_time\": \"2021-08-22T17:10:33.587851Z\", \"created_time_dt\": \"2021-08-22T17:10:33.587851Z\", \"duration\": \"0:03:22\", \"iteration\": \"12\", \"goal\": \"AUC_weighted_max\", \"run_name\": \"StandardScalerWrapper, XGBoostClassifier\", \"run_properties\": \"\\n    copy=True,\\n    with_mean=False,\\n    with_std=False\\n\", \"primary_metric\": 0.8845018, \"best_metric\": 0.9028613}, {\"run_id\": \"AutoML_323a97c6-9e35-4d8f-b68f-1ee814cf808e_13\", \"run_number\": 18, \"metric\": null, \"status\": \"Completed\", \"run_type\": \"azureml.scriptrun\", \"training_percent\": \"100\", \"start_time\": \"2021-08-22T17:13:20.260151Z\", \"end_time\": \"2021-08-22T17:13:58.158413Z\", \"created_time\": \"2021-08-22T17:11:24.763908Z\", \"created_time_dt\": \"2021-08-22T17:11:24.763908Z\", \"duration\": \"0:02:33\", \"iteration\": \"13\", \"goal\": \"AUC_weighted_max\", \"run_name\": \"SparseNormalizer, KNN\", \"run_properties\": \"copy=True, norm='max'\", \"primary_metric\": 0.74640116, \"best_metric\": 0.9028613}, {\"run_id\": \"AutoML_323a97c6-9e35-4d8f-b68f-1ee814cf808e_14\", \"run_number\": 19, \"metric\": null, \"status\": \"Completed\", \"run_type\": \"azureml.scriptrun\", \"training_percent\": \"100\", \"start_time\": \"2021-08-22T17:13:29.32975Z\", \"end_time\": \"2021-08-22T17:14:07.852813Z\", \"created_time\": \"2021-08-22T17:12:15.988421Z\", \"created_time_dt\": \"2021-08-22T17:12:15.988421Z\", \"duration\": \"0:01:51\", \"iteration\": \"14\", \"goal\": \"AUC_weighted_max\", \"run_name\": \"RobustScaler, ExtremeRandomTrees\", \"run_properties\": \"copy=True, quantile_range=[10, 90], with_centering=True,\\n             with_scaling=False\", \"primary_metric\": 0.8920578, \"best_metric\": 0.9028613}, {\"run_id\": \"AutoML_323a97c6-9e35-4d8f-b68f-1ee814cf808e_15\", \"run_number\": 20, \"metric\": null, \"status\": \"Completed\", \"run_type\": \"azureml.scriptrun\", \"training_percent\": \"100\", \"start_time\": \"2021-08-22T17:14:12.09112Z\", \"end_time\": \"2021-08-22T17:14:53.938442Z\", \"created_time\": \"2021-08-22T17:13:05.568426Z\", \"created_time_dt\": \"2021-08-22T17:13:05.568426Z\", \"duration\": \"0:01:48\", \"iteration\": \"15\", \"goal\": \"AUC_weighted_max\", \"run_name\": \"SparseNormalizer, XGBoostClassifier\", \"run_properties\": \"copy=True, norm='max'\", \"primary_metric\": 0.86227326, \"best_metric\": 0.9028613}, {\"run_id\": \"AutoML_323a97c6-9e35-4d8f-b68f-1ee814cf808e_16\", \"run_number\": 21, \"metric\": null, \"status\": \"Completed\", \"run_type\": \"azureml.scriptrun\", \"training_percent\": \"100\", \"start_time\": \"2021-08-22T17:14:11.60622Z\", \"end_time\": \"2021-08-22T17:14:51.118341Z\", \"created_time\": \"2021-08-22T17:13:09.149561Z\", \"created_time_dt\": \"2021-08-22T17:13:09.149561Z\", \"duration\": \"0:01:41\", \"iteration\": \"16\", \"goal\": \"AUC_weighted_max\", \"run_name\": \"MinMaxScaler, ExtremeRandomTrees\", \"run_properties\": \"copy=True, feature_range=(0, 1\", \"primary_metric\": 0.90186402, \"best_metric\": 0.9028613}, {\"run_id\": \"AutoML_323a97c6-9e35-4d8f-b68f-1ee814cf808e_17\", \"run_number\": 22, \"metric\": null, \"status\": \"Completed\", \"run_type\": \"azureml.scriptrun\", \"training_percent\": \"100\", \"start_time\": \"2021-08-22T17:15:07.111509Z\", \"end_time\": \"2021-08-22T17:15:43.373478Z\", \"created_time\": \"2021-08-22T17:13:58.410047Z\", \"created_time_dt\": \"2021-08-22T17:13:58.410047Z\", \"duration\": \"0:01:44\", \"iteration\": \"17\", \"goal\": \"AUC_weighted_max\", \"run_name\": \"MinMaxScaler, ExtremeRandomTrees\", \"run_properties\": \"copy=True, feature_range=(0, 1\", \"primary_metric\": 0.89663926, \"best_metric\": 0.9028613}, {\"run_id\": \"AutoML_323a97c6-9e35-4d8f-b68f-1ee814cf808e_18\", \"run_number\": 23, \"metric\": null, \"status\": \"Completed\", \"run_type\": \"azureml.scriptrun\", \"training_percent\": \"100\", \"start_time\": \"2021-08-22T17:15:09.17258Z\", \"end_time\": \"2021-08-22T17:15:47.440613Z\", \"created_time\": \"2021-08-22T17:14:01.717504Z\", \"created_time_dt\": \"2021-08-22T17:14:01.717504Z\", \"duration\": \"0:01:45\", \"iteration\": \"18\", \"goal\": \"AUC_weighted_max\", \"run_name\": \"SparseNormalizer, LightGBM\", \"run_properties\": \"copy=True, norm='l1'\", \"primary_metric\": 0.88420039, \"best_metric\": 0.9028613}, {\"run_id\": \"AutoML_323a97c6-9e35-4d8f-b68f-1ee814cf808e_19\", \"run_number\": 24, \"metric\": null, \"status\": \"Completed\", \"run_type\": \"azureml.scriptrun\", \"training_percent\": \"100\", \"start_time\": \"2021-08-22T17:15:39.555297Z\", \"end_time\": \"2021-08-22T17:16:28.211116Z\", \"created_time\": \"2021-08-22T17:14:10.314847Z\", \"created_time_dt\": \"2021-08-22T17:14:10.314847Z\", \"duration\": \"0:02:17\", \"iteration\": \"19\", \"goal\": \"AUC_weighted_max\", \"run_name\": \"MaxAbsScaler, ExtremeRandomTrees\", \"run_properties\": \"copy=True\", \"primary_metric\": 0.87337691, \"best_metric\": 0.9028613}, {\"run_id\": \"AutoML_323a97c6-9e35-4d8f-b68f-1ee814cf808e_20\", \"run_number\": 25, \"metric\": null, \"status\": \"Completed\", \"run_type\": \"azureml.scriptrun\", \"training_percent\": \"100\", \"start_time\": \"2021-08-22T17:15:57.589807Z\", \"end_time\": \"2021-08-22T17:16:36.942389Z\", \"created_time\": \"2021-08-22T17:14:53.971311Z\", \"created_time_dt\": \"2021-08-22T17:14:53.971311Z\", \"duration\": \"0:01:42\", \"iteration\": \"20\", \"goal\": \"AUC_weighted_max\", \"run_name\": \"StandardScalerWrapper, XGBoostClassifier\", \"run_properties\": \"\\n    copy=True,\\n    with_mean=False,\\n    with_std=False\\n\", \"primary_metric\": 0.89609125, \"best_metric\": 0.9028613}, {\"run_id\": \"AutoML_323a97c6-9e35-4d8f-b68f-1ee814cf808e_21\", \"run_number\": 26, \"metric\": null, \"status\": \"Completed\", \"run_type\": \"azureml.scriptrun\", \"training_percent\": \"100\", \"start_time\": \"2021-08-22T17:16:00.632137Z\", \"end_time\": \"2021-08-22T17:16:37.713287Z\", \"created_time\": \"2021-08-22T17:14:57.550984Z\", \"created_time_dt\": \"2021-08-22T17:14:57.550984Z\", \"duration\": \"0:01:40\", \"iteration\": \"21\", \"goal\": \"AUC_weighted_max\", \"run_name\": \"StandardScalerWrapper, RandomForest\", \"run_properties\": \"\\n    copy=True,\\n    with_mean=False,\\n    with_std=False\\n\", \"primary_metric\": 0.90635197, \"best_metric\": 0.90635197}, {\"run_id\": \"AutoML_323a97c6-9e35-4d8f-b68f-1ee814cf808e_22\", \"run_number\": 27, \"metric\": null, \"status\": \"Completed\", \"run_type\": \"azureml.scriptrun\", \"training_percent\": \"100\", \"start_time\": \"2021-08-22T17:16:52.993255Z\", \"end_time\": \"2021-08-22T17:17:29.619593Z\", \"created_time\": \"2021-08-22T17:15:45.814308Z\", \"created_time_dt\": \"2021-08-22T17:15:45.814308Z\", \"duration\": \"0:01:43\", \"iteration\": \"22\", \"goal\": \"AUC_weighted_max\", \"run_name\": \"MaxAbsScaler, LightGBM\", \"run_properties\": \"copy=True\", \"primary_metric\": 0.89931372, \"best_metric\": 0.90635197}, {\"run_id\": \"AutoML_323a97c6-9e35-4d8f-b68f-1ee814cf808e_23\", \"run_number\": 28, \"metric\": null, \"status\": \"Completed\", \"run_type\": \"azureml.scriptrun\", \"training_percent\": \"100\", \"start_time\": \"2021-08-22T17:16:55.354886Z\", \"end_time\": \"2021-08-22T17:17:34.662561Z\", \"created_time\": \"2021-08-22T17:15:49.831315Z\", \"created_time_dt\": \"2021-08-22T17:15:49.831315Z\", \"duration\": \"0:01:44\", \"iteration\": \"23\", \"goal\": \"AUC_weighted_max\", \"run_name\": \"MaxAbsScaler, LogisticRegression\", \"run_properties\": \"copy=True\", \"primary_metric\": 0.86742265, \"best_metric\": 0.90635197}, {\"run_id\": \"AutoML_323a97c6-9e35-4d8f-b68f-1ee814cf808e_24\", \"run_number\": 29, \"metric\": null, \"status\": \"Completed\", \"run_type\": \"azureml.scriptrun\", \"training_percent\": \"100\", \"start_time\": \"2021-08-22T17:17:49.076861Z\", \"end_time\": \"2021-08-22T17:18:39.341475Z\", \"created_time\": \"2021-08-22T17:16:30.67666Z\", \"created_time_dt\": \"2021-08-22T17:16:30.67666Z\", \"duration\": \"0:02:08\", \"iteration\": \"24\", \"goal\": \"AUC_weighted_max\", \"run_name\": \"StandardScalerWrapper, ExtremeRandomTrees\", \"run_properties\": \"\\n    copy=True,\\n    with_mean=False,\\n    with_std=True\\n\", \"primary_metric\": 0.90902327, \"best_metric\": 0.90902327}, {\"run_id\": \"AutoML_323a97c6-9e35-4d8f-b68f-1ee814cf808e_25\", \"run_number\": 30, \"metric\": null, \"status\": \"Completed\", \"run_type\": \"azureml.scriptrun\", \"training_percent\": \"100\", \"start_time\": \"2021-08-22T17:17:51.564469Z\", \"end_time\": \"2021-08-22T17:18:28.533829Z\", \"created_time\": \"2021-08-22T17:16:40.615882Z\", \"created_time_dt\": \"2021-08-22T17:16:40.615882Z\", \"duration\": \"0:01:47\", \"iteration\": \"25\", \"goal\": \"AUC_weighted_max\", \"run_name\": \"MaxAbsScaler, LightGBM\", \"run_properties\": \"copy=True\", \"primary_metric\": 0.90063597, \"best_metric\": 0.90902327}, {\"run_id\": \"AutoML_323a97c6-9e35-4d8f-b68f-1ee814cf808e_26\", \"run_number\": 31, \"metric\": null, \"status\": \"Completed\", \"run_type\": \"azureml.scriptrun\", \"training_percent\": \"100\", \"start_time\": \"2021-08-22T17:17:55.986095Z\", \"end_time\": \"2021-08-22T17:18:34.0835Z\", \"created_time\": \"2021-08-22T17:16:42.959688Z\", \"created_time_dt\": \"2021-08-22T17:16:42.959688Z\", \"duration\": \"0:01:51\", \"iteration\": \"26\", \"goal\": \"AUC_weighted_max\", \"run_name\": \"StandardScalerWrapper, LogisticRegression\", \"run_properties\": \"\\n    copy=True,\\n    with_mean=False,\\n    with_std=True\\n\", \"primary_metric\": 0.87141095, \"best_metric\": 0.90902327}, {\"run_id\": \"AutoML_323a97c6-9e35-4d8f-b68f-1ee814cf808e_27\", \"run_number\": 32, \"metric\": null, \"status\": \"Completed\", \"run_type\": \"azureml.scriptrun\", \"training_percent\": \"100\", \"start_time\": \"2021-08-22T17:18:44.460412Z\", \"end_time\": \"2021-08-22T17:19:22.962538Z\", \"created_time\": \"2021-08-22T17:17:31.054574Z\", \"created_time_dt\": \"2021-08-22T17:17:31.054574Z\", \"duration\": \"0:01:51\", \"iteration\": \"27\", \"goal\": \"AUC_weighted_max\", \"run_name\": \"MinMaxScaler, RandomForest\", \"run_properties\": \"copy=True, feature_range=(0, 1\", \"primary_metric\": 0.90589505, \"best_metric\": 0.90902327}, {\"run_id\": \"AutoML_323a97c6-9e35-4d8f-b68f-1ee814cf808e_28\", \"run_number\": 33, \"metric\": null, \"status\": \"Completed\", \"run_type\": \"azureml.scriptrun\", \"training_percent\": \"100\", \"start_time\": \"2021-08-22T17:18:49.675123Z\", \"end_time\": \"2021-08-22T17:19:29.18569Z\", \"created_time\": \"2021-08-22T17:17:36.039578Z\", \"created_time_dt\": \"2021-08-22T17:17:36.039578Z\", \"duration\": \"0:01:53\", \"iteration\": \"28\", \"goal\": \"AUC_weighted_max\", \"run_name\": \"StandardScalerWrapper, ExtremeRandomTrees\", \"run_properties\": \"\\n    copy=True,\\n    with_mean=True,\\n    with_std=True\\n\", \"primary_metric\": 0.8620384, \"best_metric\": 0.90902327}, {\"run_id\": \"AutoML_323a97c6-9e35-4d8f-b68f-1ee814cf808e_29\", \"run_number\": 34, \"metric\": null, \"status\": \"Completed\", \"run_type\": \"azureml.scriptrun\", \"training_percent\": \"100\", \"start_time\": \"2021-08-22T17:19:37.977969Z\", \"end_time\": \"2021-08-22T17:20:33.008191Z\", \"created_time\": \"2021-08-22T17:18:29.923001Z\", \"created_time_dt\": \"2021-08-22T17:18:29.923001Z\", \"duration\": \"0:02:03\", \"iteration\": \"29\", \"goal\": \"AUC_weighted_max\", \"run_name\": \"RobustScaler, ExtremeRandomTrees\", \"run_properties\": \"copy=True, quantile_range=[10, 90], with_centering=True,\\n             with_scaling=False\", \"primary_metric\": 0.85603094, \"best_metric\": 0.90902327}, {\"run_id\": \"AutoML_323a97c6-9e35-4d8f-b68f-1ee814cf808e_30\", \"run_number\": 35, \"metric\": null, \"status\": \"Completed\", \"run_type\": \"azureml.scriptrun\", \"training_percent\": \"100\", \"start_time\": \"2021-08-22T17:19:44.861923Z\", \"end_time\": \"2021-08-22T17:20:24.106707Z\", \"created_time\": \"2021-08-22T17:18:36.926236Z\", \"created_time_dt\": \"2021-08-22T17:18:36.926236Z\", \"duration\": \"0:01:47\", \"iteration\": \"30\", \"goal\": \"AUC_weighted_max\", \"run_name\": \"StandardScalerWrapper, RandomForest\", \"run_properties\": \"\\n    copy=True,\\n    with_mean=True,\\n    with_std=False\\n\", \"primary_metric\": 0.76147426, \"best_metric\": 0.90902327}, {\"run_id\": \"AutoML_323a97c6-9e35-4d8f-b68f-1ee814cf808e_31\", \"run_number\": 36, \"metric\": null, \"status\": \"Completed\", \"run_type\": \"azureml.scriptrun\", \"training_percent\": \"100\", \"start_time\": \"2021-08-22T17:20:05.204152Z\", \"end_time\": \"2021-08-22T17:20:42.56355Z\", \"created_time\": \"2021-08-22T17:18:40.871335Z\", \"created_time_dt\": \"2021-08-22T17:18:40.871335Z\", \"duration\": \"0:02:01\", \"iteration\": \"31\", \"goal\": \"AUC_weighted_max\", \"run_name\": \"StandardScalerWrapper, XGBoostClassifier\", \"run_properties\": \"\\n    copy=True,\\n    with_mean=False,\\n    with_std=False\\n\", \"primary_metric\": 0.90471758, \"best_metric\": 0.90902327}, {\"run_id\": \"AutoML_323a97c6-9e35-4d8f-b68f-1ee814cf808e_32\", \"run_number\": 37, \"metric\": null, \"status\": \"Completed\", \"run_type\": \"azureml.scriptrun\", \"training_percent\": \"100\", \"start_time\": \"2021-08-22T17:20:39.598521Z\", \"end_time\": \"2021-08-22T17:21:18.834603Z\", \"created_time\": \"2021-08-22T17:19:24.565751Z\", \"created_time_dt\": \"2021-08-22T17:19:24.565751Z\", \"duration\": \"0:01:54\", \"iteration\": \"32\", \"goal\": \"AUC_weighted_max\", \"run_name\": \"SparseNormalizer, LightGBM\", \"run_properties\": \"copy=True, norm='l2'\", \"primary_metric\": 0.87112321, \"best_metric\": 0.90902327}, {\"run_id\": \"AutoML_323a97c6-9e35-4d8f-b68f-1ee814cf808e_33\", \"run_number\": 38, \"metric\": null, \"status\": \"Canceled\", \"run_type\": \"azureml.scriptrun\", \"training_percent\": \"100\", \"start_time\": \"2021-08-22T17:20:48.693041Z\", \"end_time\": \"2021-08-22T17:21:22.345246Z\", \"created_time\": \"2021-08-22T17:19:30.634163Z\", \"created_time_dt\": \"2021-08-22T17:19:30.634163Z\", \"duration\": \"0:01:51\", \"iteration\": \"33\", \"goal\": \"AUC_weighted_max\", \"run_name\": \"RobustScaler, LightGBM\", \"run_properties\": \"copy=True, quantile_range=[25, 75], with_centering=True,\\n             with_scaling=True\", \"primary_metric\": 0.90019801, \"best_metric\": 0.90902327}, {\"run_id\": \"AutoML_323a97c6-9e35-4d8f-b68f-1ee814cf808e_34\", \"run_number\": 39, \"metric\": null, \"status\": \"Canceled\", \"run_type\": \"azureml.scriptrun\", \"training_percent\": \"100\", \"start_time\": \"2021-08-22T17:20:25.524792Z\", \"end_time\": \"2021-08-22T17:21:19.859106Z\", \"created_time\": \"2021-08-22T17:20:25.524792Z\", \"created_time_dt\": \"2021-08-22T17:20:25.524792Z\", \"duration\": \"0:00:54\", \"iteration\": \"34\", \"goal\": null, \"run_name\": \"Canceled\", \"run_properties\": null}, {\"run_id\": \"AutoML_323a97c6-9e35-4d8f-b68f-1ee814cf808e_35\", \"run_number\": 40, \"metric\": null, \"status\": \"Canceled\", \"run_type\": \"azureml.scriptrun\", \"training_percent\": \"100\", \"start_time\": \"2021-08-22T17:20:35.546502Z\", \"end_time\": \"2021-08-22T17:21:19.90627Z\", \"created_time\": \"2021-08-22T17:20:35.546502Z\", \"created_time_dt\": \"2021-08-22T17:20:35.546502Z\", \"duration\": \"0:00:44\", \"iteration\": \"35\", \"goal\": null, \"run_name\": \"Canceled\", \"run_properties\": null}, {\"run_id\": \"AutoML_323a97c6-9e35-4d8f-b68f-1ee814cf808e_36\", \"run_number\": 41, \"metric\": null, \"status\": \"Canceled\", \"run_type\": \"azureml.scriptrun\", \"training_percent\": \"100\", \"start_time\": \"2021-08-22T17:20:43.97718Z\", \"end_time\": \"2021-08-22T17:21:19.780586Z\", \"created_time\": \"2021-08-22T17:20:43.97718Z\", \"created_time_dt\": \"2021-08-22T17:20:43.97718Z\", \"duration\": \"0:00:35\", \"iteration\": \"36\", \"goal\": null, \"run_name\": \"Canceled\", \"run_properties\": null}, {\"run_id\": \"AutoML_323a97c6-9e35-4d8f-b68f-1ee814cf808e_37\", \"run_number\": 42, \"metric\": null, \"status\": \"Completed\", \"run_type\": \"azureml.scriptrun\", \"training_percent\": \"100\", \"start_time\": \"2021-08-22T17:21:38.92289Z\", \"end_time\": \"2021-08-22T17:22:42.871778Z\", \"created_time\": \"2021-08-22T17:21:23.037671Z\", \"created_time_dt\": \"2021-08-22T17:21:23.037671Z\", \"duration\": \"0:01:19\", \"iteration\": \"37\", \"goal\": \"AUC_weighted_max\", \"run_name\": \"VotingEnsemble\", \"run_properties\": \"\\n    estimators=[('24', Pipeline(\\n        memory=None,\\n        steps=[('standardscalerwrapper', StandardScalerWrapper(\\n            copy=True,\\n            with_mean=False,\\n            with_std=True\\n        \", \"primary_metric\": 0.91901761, \"best_metric\": 0.91901761}, {\"run_id\": \"AutoML_323a97c6-9e35-4d8f-b68f-1ee814cf808e_38\", \"run_number\": 43, \"metric\": null, \"status\": \"Completed\", \"run_type\": \"azureml.scriptrun\", \"training_percent\": \"100\", \"start_time\": \"2021-08-22T17:21:34.24455Z\", \"end_time\": \"2021-08-22T17:22:48.684213Z\", \"created_time\": \"2021-08-22T17:21:23.051245Z\", \"created_time_dt\": \"2021-08-22T17:21:23.051245Z\", \"duration\": \"0:01:25\", \"iteration\": \"38\", \"goal\": \"AUC_weighted_max\", \"run_name\": \"StackEnsemble\", \"run_properties\": \"\\n    base_learners=[('24', Pipeline(\\n        memory=None,\\n        steps=[('standardscalerwrapper', StandardScalerWrapper(\\n            copy=True,\\n            with_mean=False,\\n            with_std=True\\n        \", \"primary_metric\": 0.89925636, \"best_metric\": 0.91901761}], \"children_metrics\": {\"categories\": [0], \"series\": {\"AUC_weighted\": [{\"categories\": [\"0\", \"1\", \"2\", \"3\", \"4\", \"5\", \"6\", \"7\", \"8\", \"9\", \"10\", \"11\", \"12\", \"13\", \"14\", \"15\", \"16\", \"17\", \"18\", \"19\", \"20\", \"21\", \"22\", \"23\", \"24\", \"25\", \"26\", \"27\", \"28\", \"29\", \"30\", \"31\", \"32\", \"33\", \"37\", \"38\"], \"mode\": \"markers\", \"name\": \"AUC_weighted\", \"stepped\": false, \"type\": \"scatter\", \"data\": [0.8840955354735103, 0.8847369443591411, 0.8821621960313608, 0.8848781084243326, 0.9028613008971705, 0.5058572603005097, 0.8672331527930499, 0.8928091502086355, 0.8332658768957968, 0.8978564957629033, 0.8638387105774978, 0.7996258755419511, 0.8845017973402985, 0.7464011599733854, 0.892057803324737, 0.8622732591524926, 0.9018640194304381, 0.8966392579769582, 0.8842003877722412, 0.8733769050976147, 0.8960912485429647, 0.9063519741382443, 0.8993137152003857, 0.867422648766184, 0.9090232710949531, 0.9006359715989578, 0.8714109459529368, 0.9058950481440755, 0.8620384045588277, 0.8560309425848329, 0.761474258989591, 0.9047175753668316, 0.871123214739748, 0.9001980080030995, 0.919017610038491, 0.8992563609561894]}, {\"categories\": [\"0\", \"1\", \"2\", \"3\", \"4\", \"5\", \"6\", \"7\", \"8\", \"9\", \"10\", \"11\", \"12\", \"13\", \"14\", \"15\", \"16\", \"17\", \"18\", \"19\", \"20\", \"21\", \"22\", \"23\", \"24\", \"25\", \"26\", \"27\", \"28\", \"29\", \"30\", \"31\", \"32\", \"33\", \"37\", \"38\"], \"mode\": \"lines\", \"name\": \"AUC_weighted_max\", \"stepped\": true, \"type\": \"scatter\", \"data\": [0.8840955354735103, 0.8847369443591411, 0.8847369443591411, 0.8848781084243326, 0.9028613008971705, 0.9028613008971705, 0.9028613008971705, 0.9028613008971705, 0.9028613008971705, 0.9028613008971705, 0.9028613008971705, 0.9028613008971705, 0.9028613008971705, 0.9028613008971705, 0.9028613008971705, 0.9028613008971705, 0.9028613008971705, 0.9028613008971705, 0.9028613008971705, 0.9028613008971705, 0.9028613008971705, 0.9063519741382443, 0.9063519741382443, 0.9063519741382443, 0.9090232710949531, 0.9090232710949531, 0.9090232710949531, 0.9090232710949531, 0.9090232710949531, 0.9090232710949531, 0.9090232710949531, 0.9090232710949531, 0.9090232710949531, 0.9090232710949531, 0.919017610038491, 0.919017610038491]}], \"AUC_micro\": [{\"categories\": [\"0\", \"1\", \"2\", \"3\", \"4\", \"5\", \"6\", \"7\", \"8\", \"9\", \"10\", \"11\", \"12\", \"13\", \"14\", \"15\", \"16\", \"17\", \"18\", \"19\", \"20\", \"21\", \"22\", \"23\", \"24\", \"25\", \"26\", \"27\", \"28\", \"29\", \"30\", \"31\", \"32\", \"33\", \"37\", \"38\"], \"mode\": \"markers\", \"name\": \"AUC_micro\", \"stepped\": false, \"type\": \"scatter\", \"data\": [0.9035422116527941, 0.9042166732725592, 0.8971249834852688, 0.8954224468225658, 0.9108112035936056, 0.6536476416963932, 0.8914057339146518, 0.8963218390804597, 0.839863918615405, 0.9100743823490554, 0.8820451843043996, 0.817247985202801, 0.8987936319196723, 0.8058736953362399, 0.9019145197516186, 0.8809554762848462, 0.9128891531245872, 0.9130451843043996, 0.8964485400977672, 0.8941485004624127, 0.9128833399392258, 0.9136133571145463, 0.9034622803540758, 0.8640823094200026, 0.9134934601664684, 0.9137956136874091, 0.8915286035143348, 0.9111426872770512, 0.877622275069362, 0.8711778306249174, 0.7870081913066455, 0.9103511692429646, 0.8906591359492667, 0.9124856652133703, 0.922871581450654, 0.8818891531245872]}, {\"categories\": [\"0\", \"1\", \"2\", \"3\", \"4\", \"5\", \"6\", \"7\", \"8\", \"9\", \"10\", \"11\", \"12\", \"13\", \"14\", \"15\", \"16\", \"17\", \"18\", \"19\", \"20\", \"21\", \"22\", \"23\", \"24\", \"25\", \"26\", \"27\", \"28\", \"29\", \"30\", \"31\", \"32\", \"33\", \"37\", \"38\"], \"mode\": \"lines\", \"name\": \"AUC_micro_max\", \"stepped\": true, \"type\": \"scatter\", \"data\": [0.9035422116527941, 0.9042166732725592, 0.9042166732725592, 0.9042166732725592, 0.9108112035936056, 0.9108112035936056, 0.9108112035936056, 0.9108112035936056, 0.9108112035936056, 0.9108112035936056, 0.9108112035936056, 0.9108112035936056, 0.9108112035936056, 0.9108112035936056, 0.9108112035936056, 0.9108112035936056, 0.9128891531245872, 0.9130451843043996, 0.9130451843043996, 0.9130451843043996, 0.9130451843043996, 0.9136133571145463, 0.9136133571145463, 0.9136133571145463, 0.9136133571145463, 0.9137956136874091, 0.9137956136874091, 0.9137956136874091, 0.9137956136874091, 0.9137956136874091, 0.9137956136874091, 0.9137956136874091, 0.9137956136874091, 0.9137956136874091, 0.922871581450654, 0.922871581450654]}], \"average_precision_score_micro\": [{\"categories\": [\"0\", \"1\", \"2\", \"3\", \"4\", \"5\", \"6\", \"7\", \"8\", \"9\", \"10\", \"11\", \"12\", \"13\", \"14\", \"15\", \"16\", \"17\", \"18\", \"19\", \"20\", \"21\", \"22\", \"23\", \"24\", \"25\", \"26\", \"27\", \"28\", \"29\", \"30\", \"31\", \"32\", \"33\", \"37\", \"38\"], \"mode\": \"markers\", \"name\": \"average_precision_score_micro\", \"stepped\": false, \"type\": \"scatter\", \"data\": [0.9020054536251629, 0.9033793522124445, 0.9024788821882341, 0.9003768686544322, 0.9155363729429506, 0.6528425787987014, 0.8947304292910921, 0.9003597163886881, 0.8462412467064075, 0.911074626711905, 0.8850299274029687, 0.8169963076585252, 0.9005814449415992, 0.792947413420068, 0.9009948873404099, 0.8759644368256971, 0.9130567407426085, 0.9102244600099538, 0.8961352624261986, 0.8926467702548194, 0.915055993167238, 0.9143089050489566, 0.9073594867672037, 0.861974341731363, 0.9104584731599186, 0.9177646527820503, 0.8951111687199619, 0.9099276357349331, 0.8785220045268751, 0.8693420767485719, 0.7902289887394218, 0.913707348631144, 0.891936527659096, 0.913475751091908, 0.9253625634208058, 0.8884852551351109]}, {\"categories\": [\"0\", \"1\", \"2\", \"3\", \"4\", \"5\", \"6\", \"7\", \"8\", \"9\", \"10\", \"11\", \"12\", \"13\", \"14\", \"15\", \"16\", \"17\", \"18\", \"19\", \"20\", \"21\", \"22\", \"23\", \"24\", \"25\", \"26\", \"27\", \"28\", \"29\", \"30\", \"31\", \"32\", \"33\", \"37\", \"38\"], \"mode\": \"lines\", \"name\": \"average_precision_score_micro_max\", \"stepped\": true, \"type\": \"scatter\", \"data\": [0.9020054536251629, 0.9033793522124445, 0.9033793522124445, 0.9033793522124445, 0.9155363729429506, 0.9155363729429506, 0.9155363729429506, 0.9155363729429506, 0.9155363729429506, 0.9155363729429506, 0.9155363729429506, 0.9155363729429506, 0.9155363729429506, 0.9155363729429506, 0.9155363729429506, 0.9155363729429506, 0.9155363729429506, 0.9155363729429506, 0.9155363729429506, 0.9155363729429506, 0.9155363729429506, 0.9155363729429506, 0.9155363729429506, 0.9155363729429506, 0.9155363729429506, 0.9177646527820503, 0.9177646527820503, 0.9177646527820503, 0.9177646527820503, 0.9177646527820503, 0.9177646527820503, 0.9177646527820503, 0.9177646527820503, 0.9177646527820503, 0.9253625634208058, 0.9253625634208058]}], \"weighted_accuracy\": [{\"categories\": [\"0\", \"1\", \"2\", \"3\", \"4\", \"5\", \"6\", \"7\", \"8\", \"9\", \"10\", \"11\", \"12\", \"13\", \"14\", \"15\", \"16\", \"17\", \"18\", \"19\", \"20\", \"21\", \"22\", \"23\", \"24\", \"25\", \"26\", \"27\", \"28\", \"29\", \"30\", \"31\", \"32\", \"33\", \"37\", \"38\"], \"mode\": \"markers\", \"name\": \"weighted_accuracy\", \"stepped\": false, \"type\": \"scatter\", \"data\": [0.8541321922200625, 0.8502962163535492, 0.8769399697437852, 0.8333444849530132, 0.8774028225281928, 0.7077252561233643, 0.8479454199559713, 0.8396509304503994, 0.8173644876068957, 0.8566948341617044, 0.8451681878460313, 0.8080769553863684, 0.8747757991047589, 0.8242342713380824, 0.850176177727089, 0.82296536130966, 0.8740900685519607, 0.8545162658108761, 0.8573664144680366, 0.835403284436038, 0.8769593319167646, 0.8635054112957091, 0.87253878468642, 0.794035685460014, 0.8357052500877252, 0.8614245157780624, 0.8490600241366314, 0.8325972637243503, 0.8332900547365742, 0.8310155901114118, 0.7931711479234276, 0.8466174541711334, 0.862130659063004, 0.8487481106381551, 0.8749509463976061, 0.8281639091400477]}, {\"categories\": [\"0\", \"1\", \"2\", \"3\", \"4\", \"5\", \"6\", \"7\", \"8\", \"9\", \"10\", \"11\", \"12\", \"13\", \"14\", \"15\", \"16\", \"17\", \"18\", \"19\", \"20\", \"21\", \"22\", \"23\", \"24\", \"25\", \"26\", \"27\", \"28\", \"29\", \"30\", \"31\", \"32\", \"33\", \"37\", \"38\"], \"mode\": \"lines\", \"name\": \"weighted_accuracy_max\", \"stepped\": true, \"type\": \"scatter\", \"data\": [0.8541321922200625, 0.8541321922200625, 0.8769399697437852, 0.8769399697437852, 0.8774028225281928, 0.8774028225281928, 0.8774028225281928, 0.8774028225281928, 0.8774028225281928, 0.8774028225281928, 0.8774028225281928, 0.8774028225281928, 0.8774028225281928, 0.8774028225281928, 0.8774028225281928, 0.8774028225281928, 0.8774028225281928, 0.8774028225281928, 0.8774028225281928, 0.8774028225281928, 0.8774028225281928, 0.8774028225281928, 0.8774028225281928, 0.8774028225281928, 0.8774028225281928, 0.8774028225281928, 0.8774028225281928, 0.8774028225281928, 0.8774028225281928, 0.8774028225281928, 0.8774028225281928, 0.8774028225281928, 0.8774028225281928, 0.8774028225281928, 0.8774028225281928, 0.8774028225281928]}], \"precision_score_macro\": [{\"categories\": [\"0\", \"1\", \"2\", \"3\", \"4\", \"5\", \"6\", \"7\", \"8\", \"9\", \"10\", \"11\", \"12\", \"13\", \"14\", \"15\", \"16\", \"17\", \"18\", \"19\", \"20\", \"21\", \"22\", \"23\", \"24\", \"25\", \"26\", \"27\", \"28\", \"29\", \"30\", \"31\", \"32\", \"33\", \"37\", \"38\"], \"mode\": \"markers\", \"name\": \"precision_score_macro\", \"stepped\": false, \"type\": \"scatter\", \"data\": [0.8167365852764965, 0.8232986049897815, 0.8514557302600781, 0.779425389543676, 0.8520443996110977, 0.5285095656467471, 0.8111825429846025, 0.8087577804854693, 0.7597003248986007, 0.8197014893954254, 0.8133497194072137, 0.7585298115732899, 0.8518742899612464, 0.773829678500159, 0.81961749092056, 0.7798998525628961, 0.8537630333053674, 0.817474213093408, 0.8284765852221095, 0.8028812825872322, 0.8408582185788067, 0.8290832705941401, 0.8379526632787503, 0.7717295219830049, 0.8001229503939324, 0.8308262717674483, 0.8120545620474111, 0.8117665912518854, 0.7968213621174147, 0.798934077618288, 0.33959770114942534, 0.808117403191774, 0.8431025017555843, 0.8215556653491435, 0.855971106898217, 0.728106096801749]}, {\"categories\": [\"0\", \"1\", \"2\", \"3\", \"4\", \"5\", \"6\", \"7\", \"8\", \"9\", \"10\", \"11\", \"12\", \"13\", \"14\", \"15\", \"16\", \"17\", \"18\", \"19\", \"20\", \"21\", \"22\", \"23\", \"24\", \"25\", \"26\", \"27\", \"28\", \"29\", \"30\", \"31\", \"32\", \"33\", \"37\", \"38\"], \"mode\": \"lines\", \"name\": \"precision_score_macro_max\", \"stepped\": true, \"type\": \"scatter\", \"data\": [0.8167365852764965, 0.8232986049897815, 0.8514557302600781, 0.8514557302600781, 0.8520443996110977, 0.8520443996110977, 0.8520443996110977, 0.8520443996110977, 0.8520443996110977, 0.8520443996110977, 0.8520443996110977, 0.8520443996110977, 0.8520443996110977, 0.8520443996110977, 0.8520443996110977, 0.8520443996110977, 0.8537630333053674, 0.8537630333053674, 0.8537630333053674, 0.8537630333053674, 0.8537630333053674, 0.8537630333053674, 0.8537630333053674, 0.8537630333053674, 0.8537630333053674, 0.8537630333053674, 0.8537630333053674, 0.8537630333053674, 0.8537630333053674, 0.8537630333053674, 0.8537630333053674, 0.8537630333053674, 0.8537630333053674, 0.8537630333053674, 0.855971106898217, 0.855971106898217]}], \"accuracy\": [{\"categories\": [\"0\", \"1\", \"2\", \"3\", \"4\", \"5\", \"6\", \"7\", \"8\", \"9\", \"10\", \"11\", \"12\", \"13\", \"14\", \"15\", \"16\", \"17\", \"18\", \"19\", \"20\", \"21\", \"22\", \"23\", \"24\", \"25\", \"26\", \"27\", \"28\", \"29\", \"30\", \"31\", \"32\", \"33\", \"37\", \"38\"], \"mode\": \"markers\", \"name\": \"accuracy\", \"stepped\": false, \"type\": \"scatter\", \"data\": [0.8359770114942527, 0.8358620689655172, 0.8428735632183908, 0.8056321839080459, 0.8593103448275862, 0.6424137931034483, 0.8225287356321838, 0.8294252873563218, 0.7393103448275863, 0.8394252873563218, 0.822528735632184, 0.7557471264367817, 0.8428735632183908, 0.7658620689655172, 0.8391954022988506, 0.8026436781609195, 0.8462068965517242, 0.8391954022988506, 0.8360919540229885, 0.825977011494253, 0.8560919540229885, 0.8426436781609196, 0.8393103448275863, 0.792528735632184, 0.825977011494253, 0.8359770114942527, 0.825977011494253, 0.8322988505747126, 0.8258620689655173, 0.8258620689655173, 0.6791954022988507, 0.8324137931034483, 0.8427586206896551, 0.8358620689655172, 0.8559770114942531, 0.7959770114942529]}, {\"categories\": [\"0\", \"1\", \"2\", \"3\", \"4\", \"5\", \"6\", \"7\", \"8\", \"9\", \"10\", \"11\", \"12\", \"13\", \"14\", \"15\", \"16\", \"17\", \"18\", \"19\", \"20\", \"21\", \"22\", \"23\", \"24\", \"25\", \"26\", \"27\", \"28\", \"29\", \"30\", \"31\", \"32\", \"33\", \"37\", \"38\"], \"mode\": \"lines\", \"name\": \"accuracy_max\", \"stepped\": true, \"type\": \"scatter\", \"data\": [0.8359770114942527, 0.8359770114942527, 0.8428735632183908, 0.8428735632183908, 0.8593103448275862, 0.8593103448275862, 0.8593103448275862, 0.8593103448275862, 0.8593103448275862, 0.8593103448275862, 0.8593103448275862, 0.8593103448275862, 0.8593103448275862, 0.8593103448275862, 0.8593103448275862, 0.8593103448275862, 0.8593103448275862, 0.8593103448275862, 0.8593103448275862, 0.8593103448275862, 0.8593103448275862, 0.8593103448275862, 0.8593103448275862, 0.8593103448275862, 0.8593103448275862, 0.8593103448275862, 0.8593103448275862, 0.8593103448275862, 0.8593103448275862, 0.8593103448275862, 0.8593103448275862, 0.8593103448275862, 0.8593103448275862, 0.8593103448275862, 0.8593103448275862, 0.8593103448275862]}], \"balanced_accuracy\": [{\"categories\": [\"0\", \"1\", \"2\", \"3\", \"4\", \"5\", \"6\", \"7\", \"8\", \"9\", \"10\", \"11\", \"12\", \"13\", \"14\", \"15\", \"16\", \"17\", \"18\", \"19\", \"20\", \"21\", \"22\", \"23\", \"24\", \"25\", \"26\", \"27\", \"28\", \"29\", \"30\", \"31\", \"32\", \"33\", \"37\", \"38\"], \"mode\": \"markers\", \"name\": \"balanced_accuracy\", \"stepped\": false, \"type\": \"scatter\", \"data\": [0.8077082895810014, 0.8130249020938379, 0.7883135023824382, 0.7631371363190584, 0.8314527833912845, 0.5462382764387913, 0.7764642419619536, 0.8134339711267631, 0.61765993953923, 0.8132907751097112, 0.7878200375774747, 0.6773860767696581, 0.7934417169405729, 0.6741668441525421, 0.8210331139112604, 0.7653338629016546, 0.8036908786293797, 0.8153128758160222, 0.8005172408953873, 0.8100016753841125, 0.8224065759755119, 0.8102045871430883, 0.7891187285572296, 0.7890289850944885, 0.8110483830623991, 0.7933653649935114, 0.7900768918343288, 0.8301134539246668, 0.8130089853256329, 0.8162151541568017, 0.5, 0.8117962177347188, 0.8127423177508989, 0.816382044950981, 0.8257958569843581, 0.7506470474605486]}, {\"categories\": [\"0\", \"1\", \"2\", \"3\", \"4\", \"5\", \"6\", \"7\", \"8\", \"9\", \"10\", \"11\", \"12\", \"13\", \"14\", \"15\", \"16\", \"17\", \"18\", \"19\", \"20\", \"21\", \"22\", \"23\", \"24\", \"25\", \"26\", \"27\", \"28\", \"29\", \"30\", \"31\", \"32\", \"33\", \"37\", \"38\"], \"mode\": \"lines\", \"name\": \"balanced_accuracy_max\", \"stepped\": true, \"type\": \"scatter\", \"data\": [0.8077082895810014, 0.8130249020938379, 0.8130249020938379, 0.8130249020938379, 0.8314527833912845, 0.8314527833912845, 0.8314527833912845, 0.8314527833912845, 0.8314527833912845, 0.8314527833912845, 0.8314527833912845, 0.8314527833912845, 0.8314527833912845, 0.8314527833912845, 0.8314527833912845, 0.8314527833912845, 0.8314527833912845, 0.8314527833912845, 0.8314527833912845, 0.8314527833912845, 0.8314527833912845, 0.8314527833912845, 0.8314527833912845, 0.8314527833912845, 0.8314527833912845, 0.8314527833912845, 0.8314527833912845, 0.8314527833912845, 0.8314527833912845, 0.8314527833912845, 0.8314527833912845, 0.8314527833912845, 0.8314527833912845, 0.8314527833912845, 0.8314527833912845, 0.8314527833912845]}], \"f1_score_micro\": [{\"categories\": [\"0\", \"1\", \"2\", \"3\", \"4\", \"5\", \"6\", \"7\", \"8\", \"9\", \"10\", \"11\", \"12\", \"13\", \"14\", \"15\", \"16\", \"17\", \"18\", \"19\", \"20\", \"21\", \"22\", \"23\", \"24\", \"25\", \"26\", \"27\", \"28\", \"29\", \"30\", \"31\", \"32\", \"33\", \"37\", \"38\"], \"mode\": \"markers\", \"name\": \"f1_score_micro\", \"stepped\": false, \"type\": \"scatter\", \"data\": [0.8359770114942527, 0.8358620689655172, 0.8428735632183908, 0.8056321839080459, 0.8593103448275862, 0.6424137931034484, 0.8225287356321838, 0.8294252873563218, 0.7393103448275863, 0.8394252873563218, 0.822528735632184, 0.7557471264367817, 0.8428735632183908, 0.7658620689655172, 0.8391954022988506, 0.8026436781609195, 0.8462068965517242, 0.8391954022988506, 0.8360919540229885, 0.825977011494253, 0.8560919540229885, 0.8426436781609196, 0.8393103448275863, 0.792528735632184, 0.825977011494253, 0.8359770114942527, 0.825977011494253, 0.8322988505747126, 0.8258620689655173, 0.8258620689655173, 0.6791954022988507, 0.8324137931034483, 0.8427586206896551, 0.8358620689655172, 0.8559770114942531, 0.7959770114942529]}, {\"categories\": [\"0\", \"1\", \"2\", \"3\", \"4\", \"5\", \"6\", \"7\", \"8\", \"9\", \"10\", \"11\", \"12\", \"13\", \"14\", \"15\", \"16\", \"17\", \"18\", \"19\", \"20\", \"21\", \"22\", \"23\", \"24\", \"25\", \"26\", \"27\", \"28\", \"29\", \"30\", \"31\", \"32\", \"33\", \"37\", \"38\"], \"mode\": \"lines\", \"name\": \"f1_score_micro_max\", \"stepped\": true, \"type\": \"scatter\", \"data\": [0.8359770114942527, 0.8359770114942527, 0.8428735632183908, 0.8428735632183908, 0.8593103448275862, 0.8593103448275862, 0.8593103448275862, 0.8593103448275862, 0.8593103448275862, 0.8593103448275862, 0.8593103448275862, 0.8593103448275862, 0.8593103448275862, 0.8593103448275862, 0.8593103448275862, 0.8593103448275862, 0.8593103448275862, 0.8593103448275862, 0.8593103448275862, 0.8593103448275862, 0.8593103448275862, 0.8593103448275862, 0.8593103448275862, 0.8593103448275862, 0.8593103448275862, 0.8593103448275862, 0.8593103448275862, 0.8593103448275862, 0.8593103448275862, 0.8593103448275862, 0.8593103448275862, 0.8593103448275862, 0.8593103448275862, 0.8593103448275862, 0.8593103448275862, 0.8593103448275862]}], \"log_loss\": [{\"categories\": [\"0\", \"1\", \"2\", \"3\", \"4\", \"5\", \"6\", \"7\", \"8\", \"9\", \"10\", \"11\", \"12\", \"13\", \"14\", \"15\", \"16\", \"17\", \"18\", \"19\", \"20\", \"21\", \"22\", \"23\", \"24\", \"25\", \"26\", \"27\", \"28\", \"29\", \"30\", \"31\", \"32\", \"33\", \"37\", \"38\"], \"mode\": \"markers\", \"name\": \"log_loss\", \"stepped\": false, \"type\": \"scatter\", \"data\": [0.4772179826627182, 0.41764279420186134, 0.4041162243031643, 0.39988827857498466, 0.3918023695245184, 0.7060994134477102, 0.47545058882121943, 0.41200140510559313, 0.5887236217423688, 0.3720959995288918, 0.43200343393155033, 0.533504561669083, 0.4723469025228114, 1.282762060031168, 0.4479595517804588, 0.49339850403519847, 0.37295402466470295, 0.3643678950786873, 0.411944191076104, 0.46165151388837167, 0.37203366403086247, 0.3637420489648451, 0.4308436519442207, 0.46267049637146246, 0.3745345563983513, 0.3737071667706305, 0.4089794895538802, 0.47752043685161427, 0.5793181478375962, 0.5897463085081656, 0.566162967462105, 0.4249091980898382, 0.41204652506943684, 0.3648001901303759, 0.3879342677614832, 0.4617650657409079]}, {\"categories\": [\"0\", \"1\", \"2\", \"3\", \"4\", \"5\", \"6\", \"7\", \"8\", \"9\", \"10\", \"11\", \"12\", \"13\", \"14\", \"15\", \"16\", \"17\", \"18\", \"19\", \"20\", \"21\", \"22\", \"23\", \"24\", \"25\", \"26\", \"27\", \"28\", \"29\", \"30\", \"31\", \"32\", \"33\", \"37\", \"38\"], \"mode\": \"lines\", \"name\": \"log_loss_min\", \"stepped\": true, \"type\": \"scatter\", \"data\": [0.4772179826627182, 0.41764279420186134, 0.4041162243031643, 0.39988827857498466, 0.3918023695245184, 0.3918023695245184, 0.3918023695245184, 0.3918023695245184, 0.3918023695245184, 0.3720959995288918, 0.3720959995288918, 0.3720959995288918, 0.3720959995288918, 0.3720959995288918, 0.3720959995288918, 0.3720959995288918, 0.3720959995288918, 0.3643678950786873, 0.3643678950786873, 0.3643678950786873, 0.3643678950786873, 0.3637420489648451, 0.3637420489648451, 0.3637420489648451, 0.3637420489648451, 0.3637420489648451, 0.3637420489648451, 0.3637420489648451, 0.3637420489648451, 0.3637420489648451, 0.3637420489648451, 0.3637420489648451, 0.3637420489648451, 0.3637420489648451, 0.3637420489648451, 0.3637420489648451]}], \"precision_score_weighted\": [{\"categories\": [\"0\", \"1\", \"2\", \"3\", \"4\", \"5\", \"6\", \"7\", \"8\", \"9\", \"10\", \"11\", \"12\", \"13\", \"14\", \"15\", \"16\", \"17\", \"18\", \"19\", \"20\", \"21\", \"22\", \"23\", \"24\", \"25\", \"26\", \"27\", \"28\", \"29\", \"30\", \"31\", \"32\", \"33\", \"37\", \"38\"], \"mode\": \"markers\", \"name\": \"precision_score_weighted\", \"stepped\": false, \"type\": \"scatter\", \"data\": [0.8443308716969533, 0.8506678986628277, 0.8548665222001054, 0.8136791251181851, 0.872052793247784, 0.6029834921330174, 0.8306327939926141, 0.8462299642405575, 0.7619747750971889, 0.8513891773449493, 0.8413501419573877, 0.7757435938716549, 0.85852272429109, 0.7784834739122095, 0.8530786177154905, 0.8181986486915273, 0.8608647371461228, 0.8522653401217243, 0.853150686059783, 0.8430686961571616, 0.8642312691252855, 0.8535869723868224, 0.8501634243484318, 0.8303048768950072, 0.8459470492525192, 0.8537012956842572, 0.8423579235245672, 0.8603726404502267, 0.8399290432629816, 0.8431047445110513, 0.47055053507728895, 0.8467443449992176, 0.8619114401536573, 0.8531984750770357, 0.8707007978197016, 0.754530881135079]}, {\"categories\": [\"0\", \"1\", \"2\", \"3\", \"4\", \"5\", \"6\", \"7\", \"8\", \"9\", \"10\", \"11\", \"12\", \"13\", \"14\", \"15\", \"16\", \"17\", \"18\", \"19\", \"20\", \"21\", \"22\", \"23\", \"24\", \"25\", \"26\", \"27\", \"28\", \"29\", \"30\", \"31\", \"32\", \"33\", \"37\", \"38\"], \"mode\": \"lines\", \"name\": \"precision_score_weighted_max\", \"stepped\": true, \"type\": \"scatter\", \"data\": [0.8443308716969533, 0.8506678986628277, 0.8548665222001054, 0.8548665222001054, 0.872052793247784, 0.872052793247784, 0.872052793247784, 0.872052793247784, 0.872052793247784, 0.872052793247784, 0.872052793247784, 0.872052793247784, 0.872052793247784, 0.872052793247784, 0.872052793247784, 0.872052793247784, 0.872052793247784, 0.872052793247784, 0.872052793247784, 0.872052793247784, 0.872052793247784, 0.872052793247784, 0.872052793247784, 0.872052793247784, 0.872052793247784, 0.872052793247784, 0.872052793247784, 0.872052793247784, 0.872052793247784, 0.872052793247784, 0.872052793247784, 0.872052793247784, 0.872052793247784, 0.872052793247784, 0.872052793247784, 0.872052793247784]}], \"recall_score_weighted\": [{\"categories\": [\"0\", \"1\", \"2\", \"3\", \"4\", \"5\", \"6\", \"7\", \"8\", \"9\", \"10\", \"11\", \"12\", \"13\", \"14\", \"15\", \"16\", \"17\", \"18\", \"19\", \"20\", \"21\", \"22\", \"23\", \"24\", \"25\", \"26\", \"27\", \"28\", \"29\", \"30\", \"31\", \"32\", \"33\", \"37\", \"38\"], \"mode\": \"markers\", \"name\": \"recall_score_weighted\", \"stepped\": false, \"type\": \"scatter\", \"data\": [0.8359770114942527, 0.8358620689655172, 0.8428735632183908, 0.8056321839080459, 0.8593103448275862, 0.6424137931034483, 0.8225287356321838, 0.8294252873563218, 0.7393103448275863, 0.8394252873563218, 0.822528735632184, 0.7557471264367817, 0.8428735632183908, 0.7658620689655172, 0.8391954022988506, 0.8026436781609195, 0.8462068965517242, 0.8391954022988506, 0.8360919540229885, 0.825977011494253, 0.8560919540229885, 0.8426436781609196, 0.8393103448275863, 0.792528735632184, 0.825977011494253, 0.8359770114942527, 0.825977011494253, 0.8322988505747126, 0.8258620689655173, 0.8258620689655173, 0.6791954022988507, 0.8324137931034483, 0.8427586206896551, 0.8358620689655172, 0.8559770114942531, 0.7959770114942529]}, {\"categories\": [\"0\", \"1\", \"2\", \"3\", \"4\", \"5\", \"6\", \"7\", \"8\", \"9\", \"10\", \"11\", \"12\", \"13\", \"14\", \"15\", \"16\", \"17\", \"18\", \"19\", \"20\", \"21\", \"22\", \"23\", \"24\", \"25\", \"26\", \"27\", \"28\", \"29\", \"30\", \"31\", \"32\", \"33\", \"37\", \"38\"], \"mode\": \"lines\", \"name\": \"recall_score_weighted_max\", \"stepped\": true, \"type\": \"scatter\", \"data\": [0.8359770114942527, 0.8359770114942527, 0.8428735632183908, 0.8428735632183908, 0.8593103448275862, 0.8593103448275862, 0.8593103448275862, 0.8593103448275862, 0.8593103448275862, 0.8593103448275862, 0.8593103448275862, 0.8593103448275862, 0.8593103448275862, 0.8593103448275862, 0.8593103448275862, 0.8593103448275862, 0.8593103448275862, 0.8593103448275862, 0.8593103448275862, 0.8593103448275862, 0.8593103448275862, 0.8593103448275862, 0.8593103448275862, 0.8593103448275862, 0.8593103448275862, 0.8593103448275862, 0.8593103448275862, 0.8593103448275862, 0.8593103448275862, 0.8593103448275862, 0.8593103448275862, 0.8593103448275862, 0.8593103448275862, 0.8593103448275862, 0.8593103448275862, 0.8593103448275862]}], \"average_precision_score_macro\": [{\"categories\": [\"0\", \"1\", \"2\", \"3\", \"4\", \"5\", \"6\", \"7\", \"8\", \"9\", \"10\", \"11\", \"12\", \"13\", \"14\", \"15\", \"16\", \"17\", \"18\", \"19\", \"20\", \"21\", \"22\", \"23\", \"24\", \"25\", \"26\", \"27\", \"28\", \"29\", \"30\", \"31\", \"32\", \"33\", \"37\", \"38\"], \"mode\": \"markers\", \"name\": \"average_precision_score_macro\", \"stepped\": false, \"type\": \"scatter\", \"data\": [0.8807888197525153, 0.8807340475847678, 0.8733484806509594, 0.8732499972627483, 0.8921531458325905, 0.5741193378226761, 0.8549011972784539, 0.8802079379663011, 0.8168239673569666, 0.8880778451414753, 0.8531397251050148, 0.7828410796274896, 0.8836471964617113, 0.7597412180878824, 0.8930320751701487, 0.851897551293337, 0.8938201359202023, 0.8975474982286192, 0.8730895479711979, 0.8675162850912621, 0.8874550291522019, 0.8995427574942404, 0.8891334740529114, 0.8522056473141492, 0.8969972816308877, 0.8891644959707146, 0.8617533119423235, 0.8945513324498966, 0.8594326069821593, 0.8504780902925544, 0.7390184028007865, 0.8957549784975702, 0.8684228544842505, 0.8898083061206042, 0.9071017586759984, 0.8872181142678658]}, {\"categories\": [\"0\", \"1\", \"2\", \"3\", \"4\", \"5\", \"6\", \"7\", \"8\", \"9\", \"10\", \"11\", \"12\", \"13\", \"14\", \"15\", \"16\", \"17\", \"18\", \"19\", \"20\", \"21\", \"22\", \"23\", \"24\", \"25\", \"26\", \"27\", \"28\", \"29\", \"30\", \"31\", \"32\", \"33\", \"37\", \"38\"], \"mode\": \"lines\", \"name\": \"average_precision_score_macro_max\", \"stepped\": true, \"type\": \"scatter\", \"data\": [0.8807888197525153, 0.8807888197525153, 0.8807888197525153, 0.8807888197525153, 0.8921531458325905, 0.8921531458325905, 0.8921531458325905, 0.8921531458325905, 0.8921531458325905, 0.8921531458325905, 0.8921531458325905, 0.8921531458325905, 0.8921531458325905, 0.8921531458325905, 0.8930320751701487, 0.8930320751701487, 0.8938201359202023, 0.8975474982286192, 0.8975474982286192, 0.8975474982286192, 0.8975474982286192, 0.8995427574942404, 0.8995427574942404, 0.8995427574942404, 0.8995427574942404, 0.8995427574942404, 0.8995427574942404, 0.8995427574942404, 0.8995427574942404, 0.8995427574942404, 0.8995427574942404, 0.8995427574942404, 0.8995427574942404, 0.8995427574942404, 0.9071017586759984, 0.9071017586759984]}], \"f1_score_macro\": [{\"categories\": [\"0\", \"1\", \"2\", \"3\", \"4\", \"5\", \"6\", \"7\", \"8\", \"9\", \"10\", \"11\", \"12\", \"13\", \"14\", \"15\", \"16\", \"17\", \"18\", \"19\", \"20\", \"21\", \"22\", \"23\", \"24\", \"25\", \"26\", \"27\", \"28\", \"29\", \"30\", \"31\", \"32\", \"33\", \"37\", \"38\"], \"mode\": \"markers\", \"name\": \"f1_score_macro\", \"stepped\": false, \"type\": \"scatter\", \"data\": [0.8043314151248963, 0.8078501228997539, 0.8019208840403287, 0.7608099528052944, 0.8303557632038444, 0.5099311378159193, 0.7799209816490544, 0.8004118272075168, 0.6003405547539441, 0.8073780819058427, 0.7859665734784926, 0.6758805103536414, 0.8030594263892136, 0.6829016131755693, 0.8122184807360862, 0.7608691587822023, 0.8114115405500684, 0.8081335358064138, 0.7997451793644472, 0.7976439818351583, 0.822815722901729, 0.8098544568391082, 0.7985029190870153, 0.7627173409308519, 0.7943332720770802, 0.7945684785509859, 0.7886114007355267, 0.8087583587491723, 0.799217352686182, 0.7999666602831299, 0.4024893878511494, 0.8001717984831089, 0.8120818200707142, 0.8056970378765357, 0.8276347943604978, 0.7261246957634425]}, {\"categories\": [\"0\", \"1\", \"2\", \"3\", \"4\", \"5\", \"6\", \"7\", \"8\", \"9\", \"10\", \"11\", \"12\", \"13\", \"14\", \"15\", \"16\", \"17\", \"18\", \"19\", \"20\", \"21\", \"22\", \"23\", \"24\", \"25\", \"26\", \"27\", \"28\", \"29\", \"30\", \"31\", \"32\", \"33\", \"37\", \"38\"], \"mode\": \"lines\", \"name\": \"f1_score_macro_max\", \"stepped\": true, \"type\": \"scatter\", \"data\": [0.8043314151248963, 0.8078501228997539, 0.8078501228997539, 0.8078501228997539, 0.8303557632038444, 0.8303557632038444, 0.8303557632038444, 0.8303557632038444, 0.8303557632038444, 0.8303557632038444, 0.8303557632038444, 0.8303557632038444, 0.8303557632038444, 0.8303557632038444, 0.8303557632038444, 0.8303557632038444, 0.8303557632038444, 0.8303557632038444, 0.8303557632038444, 0.8303557632038444, 0.8303557632038444, 0.8303557632038444, 0.8303557632038444, 0.8303557632038444, 0.8303557632038444, 0.8303557632038444, 0.8303557632038444, 0.8303557632038444, 0.8303557632038444, 0.8303557632038444, 0.8303557632038444, 0.8303557632038444, 0.8303557632038444, 0.8303557632038444, 0.8303557632038444, 0.8303557632038444]}], \"recall_score_micro\": [{\"categories\": [\"0\", \"1\", \"2\", \"3\", \"4\", \"5\", \"6\", \"7\", \"8\", \"9\", \"10\", \"11\", \"12\", \"13\", \"14\", \"15\", \"16\", \"17\", \"18\", \"19\", \"20\", \"21\", \"22\", \"23\", \"24\", \"25\", \"26\", \"27\", \"28\", \"29\", \"30\", \"31\", \"32\", \"33\", \"37\", \"38\"], \"mode\": \"markers\", \"name\": \"recall_score_micro\", \"stepped\": false, \"type\": \"scatter\", \"data\": [0.8359770114942527, 0.8358620689655172, 0.8428735632183908, 0.8056321839080459, 0.8593103448275862, 0.6424137931034483, 0.8225287356321838, 0.8294252873563218, 0.7393103448275863, 0.8394252873563218, 0.822528735632184, 0.7557471264367817, 0.8428735632183908, 0.7658620689655172, 0.8391954022988506, 0.8026436781609195, 0.8462068965517242, 0.8391954022988506, 0.8360919540229885, 0.825977011494253, 0.8560919540229885, 0.8426436781609196, 0.8393103448275863, 0.792528735632184, 0.825977011494253, 0.8359770114942527, 0.825977011494253, 0.8322988505747126, 0.8258620689655173, 0.8258620689655173, 0.6791954022988507, 0.8324137931034483, 0.8427586206896551, 0.8358620689655172, 0.8559770114942531, 0.7959770114942529]}, {\"categories\": [\"0\", \"1\", \"2\", \"3\", \"4\", \"5\", \"6\", \"7\", \"8\", \"9\", \"10\", \"11\", \"12\", \"13\", \"14\", \"15\", \"16\", \"17\", \"18\", \"19\", \"20\", \"21\", \"22\", \"23\", \"24\", \"25\", \"26\", \"27\", \"28\", \"29\", \"30\", \"31\", \"32\", \"33\", \"37\", \"38\"], \"mode\": \"lines\", \"name\": \"recall_score_micro_max\", \"stepped\": true, \"type\": \"scatter\", \"data\": [0.8359770114942527, 0.8359770114942527, 0.8428735632183908, 0.8428735632183908, 0.8593103448275862, 0.8593103448275862, 0.8593103448275862, 0.8593103448275862, 0.8593103448275862, 0.8593103448275862, 0.8593103448275862, 0.8593103448275862, 0.8593103448275862, 0.8593103448275862, 0.8593103448275862, 0.8593103448275862, 0.8593103448275862, 0.8593103448275862, 0.8593103448275862, 0.8593103448275862, 0.8593103448275862, 0.8593103448275862, 0.8593103448275862, 0.8593103448275862, 0.8593103448275862, 0.8593103448275862, 0.8593103448275862, 0.8593103448275862, 0.8593103448275862, 0.8593103448275862, 0.8593103448275862, 0.8593103448275862, 0.8593103448275862, 0.8593103448275862, 0.8593103448275862, 0.8593103448275862]}], \"f1_score_weighted\": [{\"categories\": [\"0\", \"1\", \"2\", \"3\", \"4\", \"5\", \"6\", \"7\", \"8\", \"9\", \"10\", \"11\", \"12\", \"13\", \"14\", \"15\", \"16\", \"17\", \"18\", \"19\", \"20\", \"21\", \"22\", \"23\", \"24\", \"25\", \"26\", \"27\", \"28\", \"29\", \"30\", \"31\", \"32\", \"33\", \"37\", \"38\"], \"mode\": \"markers\", \"name\": \"f1_score_weighted\", \"stepped\": false, \"type\": \"scatter\", \"data\": [0.8333388901455894, 0.8342588560383983, 0.8351087853895749, 0.8001338988304078, 0.8553484665222131, 0.5969597383330986, 0.8172522868333717, 0.8283293635107727, 0.6868595770797061, 0.8371571100952744, 0.81906121720746, 0.7336393362036624, 0.8349883458434448, 0.7414592889700058, 0.8389634466982724, 0.8004748418046018, 0.8394569182700181, 0.8386653436278884, 0.8310445761102591, 0.8271412926379458, 0.8528962935432418, 0.83922557928655, 0.8318456887654987, 0.7966623210665318, 0.826690932277059, 0.8297870383329371, 0.8232665117523912, 0.8359554583299807, 0.8283248906234357, 0.8282701663539372, 0.5534120288954022, 0.8313209789256449, 0.8380890504025416, 0.8328821093063136, 0.8514717339731185, 0.7621393892646868]}, {\"categories\": [\"0\", \"1\", \"2\", \"3\", \"4\", \"5\", \"6\", \"7\", \"8\", \"9\", \"10\", \"11\", \"12\", \"13\", \"14\", \"15\", \"16\", \"17\", \"18\", \"19\", \"20\", \"21\", \"22\", \"23\", \"24\", \"25\", \"26\", \"27\", \"28\", \"29\", \"30\", \"31\", \"32\", \"33\", \"37\", \"38\"], \"mode\": \"lines\", \"name\": \"f1_score_weighted_max\", \"stepped\": true, \"type\": \"scatter\", \"data\": [0.8333388901455894, 0.8342588560383983, 0.8351087853895749, 0.8351087853895749, 0.8553484665222131, 0.8553484665222131, 0.8553484665222131, 0.8553484665222131, 0.8553484665222131, 0.8553484665222131, 0.8553484665222131, 0.8553484665222131, 0.8553484665222131, 0.8553484665222131, 0.8553484665222131, 0.8553484665222131, 0.8553484665222131, 0.8553484665222131, 0.8553484665222131, 0.8553484665222131, 0.8553484665222131, 0.8553484665222131, 0.8553484665222131, 0.8553484665222131, 0.8553484665222131, 0.8553484665222131, 0.8553484665222131, 0.8553484665222131, 0.8553484665222131, 0.8553484665222131, 0.8553484665222131, 0.8553484665222131, 0.8553484665222131, 0.8553484665222131, 0.8553484665222131, 0.8553484665222131]}], \"average_precision_score_weighted\": [{\"categories\": [\"0\", \"1\", \"2\", \"3\", \"4\", \"5\", \"6\", \"7\", \"8\", \"9\", \"10\", \"11\", \"12\", \"13\", \"14\", \"15\", \"16\", \"17\", \"18\", \"19\", \"20\", \"21\", \"22\", \"23\", \"24\", \"25\", \"26\", \"27\", \"28\", \"29\", \"30\", \"31\", \"32\", \"33\", \"37\", \"38\"], \"mode\": \"markers\", \"name\": \"average_precision_score_weighted\", \"stepped\": false, \"type\": \"scatter\", \"data\": [0.9061112830231934, 0.907154018724502, 0.9005982859266654, 0.903073036870949, 0.9195172452015952, 0.6307313459057176, 0.8899646080634913, 0.9059782504781702, 0.8602186701143436, 0.9134379462775462, 0.8879444208863108, 0.8273231359201043, 0.9072257750919638, 0.7942963774294312, 0.9159827291331961, 0.881325058913727, 0.9163517340574853, 0.9186134657381911, 0.8984788451568256, 0.8967946538026492, 0.9151320934713377, 0.9217164718715642, 0.916287055153521, 0.8886032389371155, 0.922874918703444, 0.9187210280482478, 0.8964954127247413, 0.9194216491459561, 0.8899289986756292, 0.8821201683831228, 0.7911587144108883, 0.9214108628743798, 0.894336124912899, 0.9173300983187292, 0.9301808682070904, 0.9133226009305598]}, {\"categories\": [\"0\", \"1\", \"2\", \"3\", \"4\", \"5\", \"6\", \"7\", \"8\", \"9\", \"10\", \"11\", \"12\", \"13\", \"14\", \"15\", \"16\", \"17\", \"18\", \"19\", \"20\", \"21\", \"22\", \"23\", \"24\", \"25\", \"26\", \"27\", \"28\", \"29\", \"30\", \"31\", \"32\", \"33\", \"37\", \"38\"], \"mode\": \"lines\", \"name\": \"average_precision_score_weighted_max\", \"stepped\": true, \"type\": \"scatter\", \"data\": [0.9061112830231934, 0.907154018724502, 0.907154018724502, 0.907154018724502, 0.9195172452015952, 0.9195172452015952, 0.9195172452015952, 0.9195172452015952, 0.9195172452015952, 0.9195172452015952, 0.9195172452015952, 0.9195172452015952, 0.9195172452015952, 0.9195172452015952, 0.9195172452015952, 0.9195172452015952, 0.9195172452015952, 0.9195172452015952, 0.9195172452015952, 0.9195172452015952, 0.9195172452015952, 0.9217164718715642, 0.9217164718715642, 0.9217164718715642, 0.922874918703444, 0.922874918703444, 0.922874918703444, 0.922874918703444, 0.922874918703444, 0.922874918703444, 0.922874918703444, 0.922874918703444, 0.922874918703444, 0.922874918703444, 0.9301808682070904, 0.9301808682070904]}], \"recall_score_macro\": [{\"categories\": [\"0\", \"1\", \"2\", \"3\", \"4\", \"5\", \"6\", \"7\", \"8\", \"9\", \"10\", \"11\", \"12\", \"13\", \"14\", \"15\", \"16\", \"17\", \"18\", \"19\", \"20\", \"21\", \"22\", \"23\", \"24\", \"25\", \"26\", \"27\", \"28\", \"29\", \"30\", \"31\", \"32\", \"33\", \"37\", \"38\"], \"mode\": \"markers\", \"name\": \"recall_score_macro\", \"stepped\": false, \"type\": \"scatter\", \"data\": [0.8077082895810014, 0.8130249020938379, 0.7883135023824382, 0.7631371363190584, 0.8314527833912845, 0.5462382764387913, 0.7764642419619536, 0.8134339711267631, 0.61765993953923, 0.8132907751097112, 0.7878200375774747, 0.6773860767696581, 0.7934417169405729, 0.6741668441525421, 0.8210331139112604, 0.7653338629016546, 0.8036908786293797, 0.8153128758160222, 0.8005172408953873, 0.8100016753841125, 0.8224065759755119, 0.8102045871430883, 0.7891187285572296, 0.7890289850944885, 0.8110483830623991, 0.7933653649935114, 0.7900768918343288, 0.8301134539246668, 0.8130089853256329, 0.8162151541568017, 0.5, 0.8117962177347188, 0.8127423177508989, 0.816382044950981, 0.8257958569843581, 0.7506470474605486]}, {\"categories\": [\"0\", \"1\", \"2\", \"3\", \"4\", \"5\", \"6\", \"7\", \"8\", \"9\", \"10\", \"11\", \"12\", \"13\", \"14\", \"15\", \"16\", \"17\", \"18\", \"19\", \"20\", \"21\", \"22\", \"23\", \"24\", \"25\", \"26\", \"27\", \"28\", \"29\", \"30\", \"31\", \"32\", \"33\", \"37\", \"38\"], \"mode\": \"lines\", \"name\": \"recall_score_macro_max\", \"stepped\": true, \"type\": \"scatter\", \"data\": [0.8077082895810014, 0.8130249020938379, 0.8130249020938379, 0.8130249020938379, 0.8314527833912845, 0.8314527833912845, 0.8314527833912845, 0.8314527833912845, 0.8314527833912845, 0.8314527833912845, 0.8314527833912845, 0.8314527833912845, 0.8314527833912845, 0.8314527833912845, 0.8314527833912845, 0.8314527833912845, 0.8314527833912845, 0.8314527833912845, 0.8314527833912845, 0.8314527833912845, 0.8314527833912845, 0.8314527833912845, 0.8314527833912845, 0.8314527833912845, 0.8314527833912845, 0.8314527833912845, 0.8314527833912845, 0.8314527833912845, 0.8314527833912845, 0.8314527833912845, 0.8314527833912845, 0.8314527833912845, 0.8314527833912845, 0.8314527833912845, 0.8314527833912845, 0.8314527833912845]}], \"AUC_macro\": [{\"categories\": [\"0\", \"1\", \"2\", \"3\", \"4\", \"5\", \"6\", \"7\", \"8\", \"9\", \"10\", \"11\", \"12\", \"13\", \"14\", \"15\", \"16\", \"17\", \"18\", \"19\", \"20\", \"21\", \"22\", \"23\", \"24\", \"25\", \"26\", \"27\", \"28\", \"29\", \"30\", \"31\", \"32\", \"33\", \"37\", \"38\"], \"mode\": \"markers\", \"name\": \"AUC_macro\", \"stepped\": false, \"type\": \"scatter\", \"data\": [0.8840955354735103, 0.8847369443591411, 0.8821621960313607, 0.8849310184772428, 0.9028613008971703, 0.5058572603005097, 0.8672331527930499, 0.8928091502086353, 0.8332658768957968, 0.897856495762903, 0.8638387105774978, 0.7996258755419511, 0.8845017973402985, 0.7464011599733854, 0.892057803324737, 0.8622732591524926, 0.9018640194304381, 0.8966392579769582, 0.8842003877722412, 0.8733769050976147, 0.8960912485429647, 0.9063519741382443, 0.8993137152003857, 0.8674226487661842, 0.9090232710949531, 0.9006359715989578, 0.8714109459529368, 0.9058950481440755, 0.8620384045588277, 0.8560309425848327, 0.7614742589895908, 0.9047175753668316, 0.871123214739748, 0.9001980080030995, 0.919017610038491, 0.8992563609561893]}, {\"categories\": [\"0\", \"1\", \"2\", \"3\", \"4\", \"5\", \"6\", \"7\", \"8\", \"9\", \"10\", \"11\", \"12\", \"13\", \"14\", \"15\", \"16\", \"17\", \"18\", \"19\", \"20\", \"21\", \"22\", \"23\", \"24\", \"25\", \"26\", \"27\", \"28\", \"29\", \"30\", \"31\", \"32\", \"33\", \"37\", \"38\"], \"mode\": \"lines\", \"name\": \"AUC_macro_max\", \"stepped\": true, \"type\": \"scatter\", \"data\": [0.8840955354735103, 0.8847369443591411, 0.8847369443591411, 0.8849310184772428, 0.9028613008971703, 0.9028613008971703, 0.9028613008971703, 0.9028613008971703, 0.9028613008971703, 0.9028613008971703, 0.9028613008971703, 0.9028613008971703, 0.9028613008971703, 0.9028613008971703, 0.9028613008971703, 0.9028613008971703, 0.9028613008971703, 0.9028613008971703, 0.9028613008971703, 0.9028613008971703, 0.9028613008971703, 0.9063519741382443, 0.9063519741382443, 0.9063519741382443, 0.9090232710949531, 0.9090232710949531, 0.9090232710949531, 0.9090232710949531, 0.9090232710949531, 0.9090232710949531, 0.9090232710949531, 0.9090232710949531, 0.9090232710949531, 0.9090232710949531, 0.919017610038491, 0.919017610038491]}], \"matthews_correlation\": [{\"categories\": [\"0\", \"1\", \"2\", \"3\", \"4\", \"5\", \"6\", \"7\", \"8\", \"9\", \"10\", \"11\", \"12\", \"13\", \"14\", \"15\", \"16\", \"17\", \"18\", \"19\", \"20\", \"21\", \"22\", \"23\", \"24\", \"25\", \"26\", \"27\", \"28\", \"29\", \"30\", \"31\", \"32\", \"33\", \"37\", \"38\"], \"mode\": \"markers\", \"name\": \"matthews_correlation\", \"stepped\": false, \"type\": \"scatter\", \"data\": [0.6231314496952846, 0.6345538749068885, 0.6339329027692553, 0.541054417024753, 0.6815460945218462, 0.0819796276020419, 0.581909708969879, 0.6206505389471328, 0.33431381404420973, 0.6316077071247344, 0.5986771914346563, 0.42038244162627525, 0.6393945846412377, 0.4335563191961641, 0.6395846206436814, 0.5428289655628894, 0.6525678204548347, 0.631267649609503, 0.6262296746523781, 0.6117011567781688, 0.6613844749265068, 0.637740995193511, 0.6238004328380192, 0.5585540540065608, 0.6092040638563533, 0.6200895356457041, 0.5999751236818767, 0.6405160035304557, 0.6090039022095292, 0.6141009559505913, 0.0, 0.6180783881753077, 0.6527000728437955, 0.6356521706477596, 0.6792058611365521, 0.5205941937037654]}, {\"categories\": [\"0\", \"1\", \"2\", \"3\", \"4\", \"5\", \"6\", \"7\", \"8\", \"9\", \"10\", \"11\", \"12\", \"13\", \"14\", \"15\", \"16\", \"17\", \"18\", \"19\", \"20\", \"21\", \"22\", \"23\", \"24\", \"25\", \"26\", \"27\", \"28\", \"29\", \"30\", \"31\", \"32\", \"33\", \"37\", \"38\"], \"mode\": \"lines\", \"name\": \"matthews_correlation_max\", \"stepped\": true, \"type\": \"scatter\", \"data\": [0.6231314496952846, 0.6345538749068885, 0.6345538749068885, 0.6345538749068885, 0.6815460945218462, 0.6815460945218462, 0.6815460945218462, 0.6815460945218462, 0.6815460945218462, 0.6815460945218462, 0.6815460945218462, 0.6815460945218462, 0.6815460945218462, 0.6815460945218462, 0.6815460945218462, 0.6815460945218462, 0.6815460945218462, 0.6815460945218462, 0.6815460945218462, 0.6815460945218462, 0.6815460945218462, 0.6815460945218462, 0.6815460945218462, 0.6815460945218462, 0.6815460945218462, 0.6815460945218462, 0.6815460945218462, 0.6815460945218462, 0.6815460945218462, 0.6815460945218462, 0.6815460945218462, 0.6815460945218462, 0.6815460945218462, 0.6815460945218462, 0.6815460945218462, 0.6815460945218462]}], \"norm_macro_recall\": [{\"categories\": [\"0\", \"1\", \"2\", \"3\", \"4\", \"5\", \"6\", \"7\", \"8\", \"9\", \"10\", \"11\", \"12\", \"13\", \"14\", \"15\", \"16\", \"17\", \"18\", \"19\", \"20\", \"21\", \"22\", \"23\", \"24\", \"25\", \"26\", \"27\", \"28\", \"29\", \"30\", \"31\", \"32\", \"33\", \"37\", \"38\"], \"mode\": \"markers\", \"name\": \"norm_macro_recall\", \"stepped\": false, \"type\": \"scatter\", \"data\": [0.6154165791620023, 0.626049804187676, 0.5766270047648765, 0.5262742726381171, 0.662905566782569, 0.1312714568040655, 0.5529284839239071, 0.6268679422535258, 0.24584619486793394, 0.6265815502194221, 0.5756400751549493, 0.354772153539316, 0.5868834338811456, 0.34833368830508415, 0.6420662278225207, 0.5306677258033093, 0.6073817572587595, 0.6306257516320446, 0.6010344817907747, 0.620003350768225, 0.6448131519510237, 0.6204091742861765, 0.5782374571144594, 0.5780579701889771, 0.6220967661247983, 0.5867307299870228, 0.5801537836686578, 0.6602269078493335, 0.6260179706512659, 0.6324303083136036, 0.0, 0.6235924354694378, 0.6254846355017979, 0.6327640899019618, 0.6515917139687162, 0.5012940949210971]}, {\"categories\": [\"0\", \"1\", \"2\", \"3\", \"4\", \"5\", \"6\", \"7\", \"8\", \"9\", \"10\", \"11\", \"12\", \"13\", \"14\", \"15\", \"16\", \"17\", \"18\", \"19\", \"20\", \"21\", \"22\", \"23\", \"24\", \"25\", \"26\", \"27\", \"28\", \"29\", \"30\", \"31\", \"32\", \"33\", \"37\", \"38\"], \"mode\": \"lines\", \"name\": \"norm_macro_recall_max\", \"stepped\": true, \"type\": \"scatter\", \"data\": [0.6154165791620023, 0.626049804187676, 0.626049804187676, 0.626049804187676, 0.662905566782569, 0.662905566782569, 0.662905566782569, 0.662905566782569, 0.662905566782569, 0.662905566782569, 0.662905566782569, 0.662905566782569, 0.662905566782569, 0.662905566782569, 0.662905566782569, 0.662905566782569, 0.662905566782569, 0.662905566782569, 0.662905566782569, 0.662905566782569, 0.662905566782569, 0.662905566782569, 0.662905566782569, 0.662905566782569, 0.662905566782569, 0.662905566782569, 0.662905566782569, 0.662905566782569, 0.662905566782569, 0.662905566782569, 0.662905566782569, 0.662905566782569, 0.662905566782569, 0.662905566782569, 0.662905566782569, 0.662905566782569]}], \"precision_score_micro\": [{\"categories\": [\"0\", \"1\", \"2\", \"3\", \"4\", \"5\", \"6\", \"7\", \"8\", \"9\", \"10\", \"11\", \"12\", \"13\", \"14\", \"15\", \"16\", \"17\", \"18\", \"19\", \"20\", \"21\", \"22\", \"23\", \"24\", \"25\", \"26\", \"27\", \"28\", \"29\", \"30\", \"31\", \"32\", \"33\", \"37\", \"38\"], \"mode\": \"markers\", \"name\": \"precision_score_micro\", \"stepped\": false, \"type\": \"scatter\", \"data\": [0.8359770114942527, 0.8358620689655172, 0.8428735632183908, 0.8056321839080459, 0.8593103448275862, 0.6424137931034483, 0.8225287356321838, 0.8294252873563218, 0.7393103448275863, 0.8394252873563218, 0.822528735632184, 0.7557471264367817, 0.8428735632183908, 0.7658620689655172, 0.8391954022988506, 0.8026436781609195, 0.8462068965517242, 0.8391954022988506, 0.8360919540229885, 0.825977011494253, 0.8560919540229885, 0.8426436781609196, 0.8393103448275863, 0.792528735632184, 0.825977011494253, 0.8359770114942527, 0.825977011494253, 0.8322988505747126, 0.8258620689655173, 0.8258620689655173, 0.6791954022988507, 0.8324137931034483, 0.8427586206896551, 0.8358620689655172, 0.8559770114942531, 0.7959770114942529]}, {\"categories\": [\"0\", \"1\", \"2\", \"3\", \"4\", \"5\", \"6\", \"7\", \"8\", \"9\", \"10\", \"11\", \"12\", \"13\", \"14\", \"15\", \"16\", \"17\", \"18\", \"19\", \"20\", \"21\", \"22\", \"23\", \"24\", \"25\", \"26\", \"27\", \"28\", \"29\", \"30\", \"31\", \"32\", \"33\", \"37\", \"38\"], \"mode\": \"lines\", \"name\": \"precision_score_micro_max\", \"stepped\": true, \"type\": \"scatter\", \"data\": [0.8359770114942527, 0.8359770114942527, 0.8428735632183908, 0.8428735632183908, 0.8593103448275862, 0.8593103448275862, 0.8593103448275862, 0.8593103448275862, 0.8593103448275862, 0.8593103448275862, 0.8593103448275862, 0.8593103448275862, 0.8593103448275862, 0.8593103448275862, 0.8593103448275862, 0.8593103448275862, 0.8593103448275862, 0.8593103448275862, 0.8593103448275862, 0.8593103448275862, 0.8593103448275862, 0.8593103448275862, 0.8593103448275862, 0.8593103448275862, 0.8593103448275862, 0.8593103448275862, 0.8593103448275862, 0.8593103448275862, 0.8593103448275862, 0.8593103448275862, 0.8593103448275862, 0.8593103448275862, 0.8593103448275862, 0.8593103448275862, 0.8593103448275862, 0.8593103448275862]}]}, \"metricName\": null, \"primaryMetricName\": \"AUC_weighted\", \"showLegend\": false}, \"run_metrics\": [], \"run_logs\": \"\\nRun is completed.\", \"graph\": {}, \"widget_settings\": {\"childWidgetDisplay\": \"popup\", \"send_telemetry\": false, \"log_level\": \"INFO\", \"sdk_version\": \"1.33.0\"}, \"loading\": false}"
          },
          "metadata": {}
        }
      ],
      "execution_count": 45,
      "metadata": {
        "gather": {
          "logged": 1629762684939
        },
        "jupyter": {
          "outputs_hidden": false,
          "source_hidden": false
        },
        "nteract": {
          "transient": {
            "deleting": false
          }
        }
      }
    },
    {
      "cell_type": "markdown",
      "source": [
        "## Best Model\n",
        "\n",
        "TODO: In the cell below, get the best model from the automl experiments and display all the properties of the model.\n",
        "\n"
      ],
      "metadata": {}
    },
    {
      "cell_type": "code",
      "source": [
        "best_run, fitted_model = remote_run.get_output()\r\n",
        "best_run"
      ],
      "outputs": [
        {
          "output_type": "execute_result",
          "execution_count": 18,
          "data": {
            "text/plain": "Run(Experiment: aml-experiment,\nId: AutoML_323a97c6-9e35-4d8f-b68f-1ee814cf808e_37,\nType: azureml.scriptrun,\nStatus: Completed)",
            "text/html": "<table style=\"width:100%\"><tr><th>Experiment</th><th>Id</th><th>Type</th><th>Status</th><th>Details Page</th><th>Docs Page</th></tr><tr><td>aml-experiment</td><td>AutoML_323a97c6-9e35-4d8f-b68f-1ee814cf808e_37</td><td>azureml.scriptrun</td><td>Completed</td><td><a href=\"https://ml.azure.com/runs/AutoML_323a97c6-9e35-4d8f-b68f-1ee814cf808e_37?wsid=/subscriptions/2a3b9c06-13fd-4499-8d62-0323ea7c8399/resourcegroups/networkwatcherrg/workspaces/ml-workspace&amp;tid=1877b446-2ff7-4a58-b640-4d9c006695a8\" target=\"_blank\" rel=\"noopener\">Link to Azure Machine Learning studio</a></td><td><a href=\"https://docs.microsoft.com/en-us/python/api/azureml-core/azureml.core.run.Run?view=azure-ml-py\" target=\"_blank\" rel=\"noopener\">Link to Documentation</a></td></tr></table>"
          },
          "metadata": {}
        }
      ],
      "execution_count": 18,
      "metadata": {
        "gather": {
          "logged": 1629655490737
        },
        "jupyter": {
          "outputs_hidden": false,
          "source_hidden": false
        },
        "nteract": {
          "transient": {
            "deleting": false
          }
        }
      }
    },
    {
      "cell_type": "code",
      "source": [
        "best_run.get_properties()"
      ],
      "outputs": [
        {
          "output_type": "execute_result",
          "execution_count": 38,
          "data": {
            "text/plain": "{'runTemplate': 'automl_child',\n 'pipeline_id': '__AutoML_Ensemble__',\n 'pipeline_spec': '{\"pipeline_id\":\"__AutoML_Ensemble__\",\"objects\":[{\"module\":\"azureml.train.automl.ensemble\",\"class_name\":\"Ensemble\",\"spec_class\":\"sklearn\",\"param_args\":[],\"param_kwargs\":{\"automl_settings\":\"{\\'task_type\\':\\'classification\\',\\'primary_metric\\':\\'AUC_weighted\\',\\'verbosity\\':20,\\'ensemble_iterations\\':15,\\'is_timeseries\\':False,\\'name\\':\\'aml-experiment\\',\\'compute_target\\':\\'heart-f-cluster\\',\\'subscription_id\\':\\'2a3b9c06-13fd-4499-8d62-0323ea7c8399\\',\\'region\\':\\'centralus\\',\\'spark_service\\':None}\",\"ensemble_run_id\":\"AutoML_323a97c6-9e35-4d8f-b68f-1ee814cf808e_37\",\"experiment_name\":\"aml-experiment\",\"workspace_name\":\"ml-workspace\",\"subscription_id\":\"2a3b9c06-13fd-4499-8d62-0323ea7c8399\",\"resource_group_name\":\"networkwatcherrg\"}}]}',\n 'training_percent': '100',\n 'predicted_cost': None,\n 'iteration': '37',\n '_aml_system_scenario_identification': 'Remote.Child',\n '_azureml.ComputeTargetType': 'amlcompute',\n 'ContentSnapshotId': '2a52d11c-fbf9-494e-836b-458b8e09ca08',\n 'ProcessInfoFile': 'azureml-logs/process_info.json',\n 'ProcessStatusFile': 'azureml-logs/process_status.json',\n 'run_preprocessor': '',\n 'run_algorithm': 'VotingEnsemble',\n 'ensembled_iterations': '[24, 21, 27, 31, 4, 16, 20, 7, 1, 18, 15, 28]',\n 'ensembled_algorithms': \"['ExtremeRandomTrees', 'RandomForest', 'RandomForest', 'XGBoostClassifier', 'LightGBM', 'ExtremeRandomTrees', 'XGBoostClassifier', 'RandomForest', 'XGBoostClassifier', 'LightGBM', 'XGBoostClassifier', 'ExtremeRandomTrees']\",\n 'ensembled_run_ids': \"['AutoML_323a97c6-9e35-4d8f-b68f-1ee814cf808e_24', 'AutoML_323a97c6-9e35-4d8f-b68f-1ee814cf808e_21', 'AutoML_323a97c6-9e35-4d8f-b68f-1ee814cf808e_27', 'AutoML_323a97c6-9e35-4d8f-b68f-1ee814cf808e_31', 'AutoML_323a97c6-9e35-4d8f-b68f-1ee814cf808e_4', 'AutoML_323a97c6-9e35-4d8f-b68f-1ee814cf808e_16', 'AutoML_323a97c6-9e35-4d8f-b68f-1ee814cf808e_20', 'AutoML_323a97c6-9e35-4d8f-b68f-1ee814cf808e_7', 'AutoML_323a97c6-9e35-4d8f-b68f-1ee814cf808e_1', 'AutoML_323a97c6-9e35-4d8f-b68f-1ee814cf808e_18', 'AutoML_323a97c6-9e35-4d8f-b68f-1ee814cf808e_15', 'AutoML_323a97c6-9e35-4d8f-b68f-1ee814cf808e_28']\",\n 'ensemble_weights': '[0.13333333333333333, 0.06666666666666667, 0.06666666666666667, 0.06666666666666667, 0.06666666666666667, 0.06666666666666667, 0.06666666666666667, 0.13333333333333333, 0.06666666666666667, 0.13333333333333333, 0.06666666666666667, 0.06666666666666667]',\n 'best_individual_pipeline_score': '0.9090232710949531',\n 'best_individual_iteration': '24',\n 'model_output_path': 'outputs/model.pkl',\n 'conda_env_data_location': 'aml://artifact/ExperimentRun/dcid.AutoML_323a97c6-9e35-4d8f-b68f-1ee814cf808e_37/outputs/conda_env_v_1_0_0.yml',\n 'model_data_location': 'aml://artifact/ExperimentRun/dcid.AutoML_323a97c6-9e35-4d8f-b68f-1ee814cf808e_37/outputs/model.pkl',\n 'model_size_on_disk': '2715187',\n 'scoring_data_location': 'aml://artifact/ExperimentRun/dcid.AutoML_323a97c6-9e35-4d8f-b68f-1ee814cf808e_37/outputs/scoring_file_v_1_0_0.py',\n 'scoring_data_location_v2': 'aml://artifact/ExperimentRun/dcid.AutoML_323a97c6-9e35-4d8f-b68f-1ee814cf808e_37/outputs/scoring_file_v_2_0_0.py',\n 'model_exp_support': 'True',\n 'pipeline_graph_version': '1.0.0',\n 'model_name': 'AutoML323a97c6937',\n 'score': '0.919017610038491',\n 'score_table': 'NaN',\n 'run_properties': \"\\n    estimators=[('24', Pipeline(\\n        memory=None,\\n        steps=[('standardscalerwrapper', StandardScalerWrapper(\\n            copy=True,\\n            with_mean=False,\\n            with_std=True\\n        \",\n 'pipeline_script': '{\"pipeline_id\":\"__AutoML_Ensemble__\",\"objects\":[{\"module\":\"azureml.train.automl.ensemble\",\"class_name\":\"Ensemble\",\"spec_class\":\"sklearn\",\"param_args\":[],\"param_kwargs\":{\"automl_settings\":\"{\\'task_type\\':\\'classification\\',\\'primary_metric\\':\\'AUC_weighted\\',\\'verbosity\\':20,\\'ensemble_iterations\\':15,\\'is_timeseries\\':False,\\'name\\':\\'aml-experiment\\',\\'compute_target\\':\\'heart-f-cluster\\',\\'subscription_id\\':\\'2a3b9c06-13fd-4499-8d62-0323ea7c8399\\',\\'region\\':\\'centralus\\',\\'spark_service\\':None}\",\"ensemble_run_id\":\"AutoML_323a97c6-9e35-4d8f-b68f-1ee814cf808e_37\",\"experiment_name\":\"aml-experiment\",\"workspace_name\":\"ml-workspace\",\"subscription_id\":\"2a3b9c06-13fd-4499-8d62-0323ea7c8399\",\"resource_group_name\":\"networkwatcherrg\"}}]}',\n 'training_type': 'MeanCrossValidation',\n 'fit_time': '24',\n 'goal': 'AUC_weighted_max',\n 'primary_metric': 'AUC_weighted',\n 'errors': '{}',\n 'onnx_model_resource': '{}',\n 'dependencies_versions': '{\"azureml-train-automl-runtime\": \"1.33.0\", \"azureml-train-automl-client\": \"1.33.0\", \"azureml-telemetry\": \"1.33.0\", \"azureml-responsibleai\": \"1.33.0\", \"azureml-pipeline-core\": \"1.33.0\", \"azureml-mlflow\": \"1.33.0\", \"azureml-interpret\": \"1.33.0\", \"azureml-defaults\": \"1.33.0\", \"azureml-dataset-runtime\": \"1.33.0\", \"azureml-dataprep\": \"2.20.1\", \"azureml-dataprep-rslex\": \"1.18.0\", \"azureml-dataprep-native\": \"38.0.0\", \"azureml-core\": \"1.33.0\", \"azureml-automl-runtime\": \"1.33.0\", \"azureml-automl-core\": \"1.33.0\"}',\n 'num_cores': '4',\n 'num_logical_cores': '4',\n 'peak_memory_usage': '1266480',\n 'vm_configuration': 'x86_64',\n 'core_hours': '0.011761313333333336',\n 'feature_skus': 'automatedml_sdk_guardrails'}"
          },
          "metadata": {}
        }
      ],
      "execution_count": 38,
      "metadata": {
        "collapsed": true,
        "jupyter": {
          "source_hidden": false,
          "outputs_hidden": false
        },
        "nteract": {
          "transient": {
            "deleting": false
          }
        },
        "gather": {
          "logged": 1629728040396
        }
      }
    },
    {
      "cell_type": "code",
      "source": [
        "model_name = best_run.properties['model_name']\r\n",
        "model_name"
      ],
      "outputs": [
        {
          "output_type": "execute_result",
          "execution_count": 19,
          "data": {
            "text/plain": "'AutoML323a97c6937'"
          },
          "metadata": {}
        }
      ],
      "execution_count": 19,
      "metadata": {
        "collapsed": true,
        "jupyter": {
          "source_hidden": false,
          "outputs_hidden": false
        },
        "nteract": {
          "transient": {
            "deleting": false
          }
        },
        "gather": {
          "logged": 1629655494556
        }
      }
    },
    {
      "cell_type": "code",
      "source": [
        "script_file_name = 'inference/score.py'\r\n",
        "best_run.download_file('outputs/scoring_file_v_1_0_0.py', 'inference/score.py')"
      ],
      "outputs": [],
      "execution_count": 20,
      "metadata": {
        "collapsed": true,
        "jupyter": {
          "source_hidden": false,
          "outputs_hidden": false
        },
        "nteract": {
          "transient": {
            "deleting": false
          }
        },
        "gather": {
          "logged": 1629655498850
        }
      }
    },
    {
      "cell_type": "code",
      "source": [
        "#TODO: Save the best model\r\n",
        "\r\n",
        "description = \"aml heart failure project sdk\"\r\n",
        "model = best_run.register_model(model_name = model_name,\r\n",
        "                                model_path = './outputs/',\r\n",
        "                                description = description,\r\n",
        "                                tags = None)"
      ],
      "outputs": [],
      "execution_count": 31,
      "metadata": {
        "gather": {
          "logged": 1629656970439
        },
        "jupyter": {
          "outputs_hidden": false,
          "source_hidden": false
        },
        "nteract": {
          "transient": {
            "deleting": false
          }
        }
      }
    },
    {
      "cell_type": "markdown",
      "source": [
        "## Model Deployment\n",
        "\n",
        "Remember you have to deploy only one of the two models you trained.. Perform the steps in the rest of this notebook only if you wish to deploy this model.\n",
        "\n",
        "TODO: In the cell below, register the model, create an inference config and deploy the model as a web service."
      ],
      "metadata": {}
    },
    {
      "cell_type": "code",
      "source": [
        "inference_config = InferenceConfig(entry_script=script_file_name, environment=best_run.get_environment())\r\n",
        "\r\n",
        "aciconfig = AciWebservice.deploy_configuration(cpu_cores = 1,\r\n",
        "                                               memory_gb = 1,\r\n",
        "                                               tags = {'type': \"automl-heart-failure-prediction\"},\r\n",
        "                                               description = 'Sample service for AutoML Heart Failure Prediction')\r\n",
        "\r\n",
        "aci_service_name = 'automl-hf-sdk-3'\r\n",
        "print(aci_service_name)\r\n",
        "aci_service = Model.deploy(ws, aci_service_name, [model], inference_config, aciconfig)\r\n",
        "aci_service.wait_for_deployment(True)\r\n",
        "print(aci_service.state)"
      ],
      "outputs": [
        {
          "output_type": "stream",
          "name": "stdout",
          "text": [
            "automl-hf-sdk-3\n",
            "Tips: You can try get_logs(): https://aka.ms/debugimage#dockerlog or local deployment: https://aka.ms/debugimage#debug-locally to debug if deployment takes longer than 10 minutes.\n",
            "Running\n",
            "2021-08-23 23:08:29+00:00 Creating Container Registry if not exists.\n",
            "2021-08-23 23:08:29+00:00 Registering the environment.\n",
            "2021-08-23 23:08:30+00:00 Use the existing image.\n",
            "2021-08-23 23:08:31+00:00 Generating deployment configuration.\n",
            "2021-08-23 23:08:32+00:00 Submitting deployment to compute.\n",
            "2021-08-23 23:08:35+00:00 Checking the status of deployment automl-hf-sdk-3..\n",
            "2021-08-23 23:09:11+00:00 Checking the status of inference endpoint automl-hf-sdk-3.\n",
            "Succeeded\n",
            "ACI service creation operation finished, operation \"Succeeded\"\n",
            "Healthy\n"
          ]
        },
        {
          "output_type": "stream",
          "name": "stderr",
          "text": [
            "INFO:interpret_community.common.explanation_utils:Using default datastore for uploads\n",
            "INFO:interpret_community.common.explanation_utils:Using default datastore for uploads\n"
          ]
        }
      ],
      "execution_count": 39,
      "metadata": {
        "collapsed": true,
        "jupyter": {
          "source_hidden": false,
          "outputs_hidden": false
        },
        "nteract": {
          "transient": {
            "deleting": false
          }
        },
        "gather": {
          "logged": 1629760205094
        }
      }
    },
    {
      "cell_type": "markdown",
      "source": [
        "TODO: In the cell below, send a request to the web service you deployed to test it."
      ],
      "metadata": {
        "collapsed": true,
        "gather": {
          "logged": 1598431657736
        },
        "jupyter": {
          "outputs_hidden": false,
          "source_hidden": false
        },
        "nteract": {
          "transient": {
            "deleting": false
          }
        }
      }
    },
    {
      "cell_type": "code",
      "source": [
        "data = {\r\n",
        "    \"data\":\r\n",
        "    [\r\n",
        "        {\r\n",
        "            'age': \"60\",\r\n",
        "            'anaemia': \"false\",\r\n",
        "            'creatinine_phosphokinase': \"500\",\r\n",
        "            'diabetes': \"false\",\r\n",
        "            'ejection_fraction': \"38\",\r\n",
        "            'high_blood_pressure': \"false\",\r\n",
        "            'platelets': \"260000\",\r\n",
        "            'serum_creatinine': \"1.40\",\r\n",
        "            'serum_sodium': \"137\",\r\n",
        "            'sex': \"false\",\r\n",
        "            'smoking': \"false\",\r\n",
        "            'time': \"130\",\r\n",
        "        },\r\n",
        "    ],\r\n",
        "}\r\n",
        "\r\n",
        "test_sample = str.encode(json.dumps(data))"
      ],
      "outputs": [],
      "execution_count": 40,
      "metadata": {
        "collapsed": true,
        "jupyter": {
          "source_hidden": false,
          "outputs_hidden": false
        },
        "nteract": {
          "transient": {
            "deleting": false
          }
        },
        "gather": {
          "logged": 1629760293199
        }
      }
    },
    {
      "cell_type": "code",
      "source": [
        "response = aci_service.run(input_data=test_sample)\r\n",
        "response"
      ],
      "outputs": [
        {
          "output_type": "execute_result",
          "execution_count": 44,
          "data": {
            "text/plain": "'{\"result\": [false]}'"
          },
          "metadata": {}
        }
      ],
      "execution_count": 44,
      "metadata": {
        "collapsed": true,
        "jupyter": {
          "source_hidden": false,
          "outputs_hidden": false
        },
        "nteract": {
          "transient": {
            "deleting": false
          }
        },
        "gather": {
          "logged": 1629762316161
        }
      }
    },
    {
      "cell_type": "markdown",
      "source": [
        "TODO: In the cell below, print the logs of the web service and delete the service"
      ],
      "metadata": {
        "nteract": {
          "transient": {
            "deleting": false
          }
        }
      }
    },
    {
      "cell_type": "code",
      "source": [
        "aci_service.get_logs()"
      ],
      "outputs": [
        {
          "output_type": "execute_result",
          "execution_count": 37,
          "data": {
            "text/plain": "'2021-08-22T18:26:04,954139400+00:00 - gunicorn/run \\nDynamic Python package installation is disabled.\\nStarting HTTP server\\n2021-08-22T18:26:04,972517100+00:00 - rsyslog/run \\n2021-08-22T18:26:04,973433000+00:00 - iot-server/run \\n2021-08-22T18:26:05,014668400+00:00 - nginx/run \\nrsyslogd: /azureml-envs/azureml_3489174eb648a475780c9959ff366072/lib/libuuid.so.1: no version information available (required by rsyslogd)\\nEdgeHubConnectionString and IOTEDGE_IOTHUBHOSTNAME are not set. Exiting...\\n2021-08-22T18:26:05,501933500+00:00 - iot-server/finish 1 0\\n2021-08-22T18:26:05,503777300+00:00 - Exit code 1 is normal. Not restarting iot-server.\\nStarting gunicorn 20.1.0\\nListening at: http://127.0.0.1:31311 (63)\\nUsing worker: sync\\nworker timeout is set to 300\\nBooting worker with pid: 92\\nSPARK_HOME not set. Skipping PySpark Initialization.\\nGenerating new fontManager, this may take some time...\\nInitializing logger\\n2021-08-22 18:26:08,470 | root | INFO | Starting up app insights client\\nlogging socket was found. logging is available.\\nlogging socket was found. logging is available.\\n2021-08-22 18:26:08,471 | root | INFO | Starting up request id generator\\n2021-08-22 18:26:08,471 | root | INFO | Starting up app insight hooks\\n2021-08-22 18:26:08,471 | root | INFO | Invoking user\\'s init function\\n2021-08-22 18:26:13,389 | azureml.core | WARNING | Failure while loading azureml_run_type_providers. Failed to load entrypoint automl = azureml.train.automl.run:AutoMLRun._from_run_dto with exception cannot import name \\'RunType\\'.\\nFailure while loading azureml_run_type_providers. Failed to load entrypoint automl = azureml.train.automl.run:AutoMLRun._from_run_dto with exception cannot import name \\'RunType\\'.\\n2021-08-22 18:26:15,362 | root | INFO | Users\\'s init has completed successfully\\n2021-08-22 18:26:15,382 | root | INFO | Skipping middleware: dbg_model_info as it\\'s not enabled.\\n2021-08-22 18:26:15,382 | root | INFO | Skipping middleware: dbg_resource_usage as it\\'s not enabled.\\nGenerating swagger file: /tmp/tmpglif41bt\\n2021-08-22 18:26:15,389 | root | INFO | Scoring timeout is found from os.environ: 60000 ms\\n2021-08-22 18:26:20,450 | root | INFO | 200\\n127.0.0.1 - - [22/Aug/2021:18:26:20 +0000] \"GET /swagger.json HTTP/1.0\" 200 2958 \"-\" \"Go-http-client/1.1\"\\n2021-08-22 18:26:23,585 | root | INFO | 200\\n127.0.0.1 - - [22/Aug/2021:18:26:23 +0000] \"GET /swagger.json HTTP/1.0\" 200 2958 \"-\" \"Go-http-client/1.1\"\\n2021-08-22 18:28:49,649 | root | INFO | 200\\n127.0.0.1 - - [22/Aug/2021:18:28:49 +0000] \"GET /swagger.json HTTP/1.0\" 200 2958 \"-\" \"Go-http-client/1.1\"\\n2021-08-22 18:28:51,199 | root | INFO | 200\\n127.0.0.1 - - [22/Aug/2021:18:28:51 +0000] \"GET /swagger.json HTTP/1.0\" 200 2958 \"-\" \"Go-http-client/1.1\"\\n2021-08-22 18:29:05,690 | root | INFO | Validation Request Content-Type\\n2021-08-22 18:29:05,692 | root | INFO | Scoring Timer is set to 60.0 seconds\\n2021-08-22 18:29:06,141 | root | INFO | 200\\n127.0.0.1 - - [22/Aug/2021:18:29:06 +0000] \"POST /score HTTP/1.0\" 200 22 \"-\" \"Python-urllib/3.6\"\\n2021-08-22 18:29:16,358 | root | INFO | Validation Request Content-Type\\n2021-08-22 18:29:16,359 | root | INFO | Scoring Timer is set to 60.0 seconds\\n2021-08-22 18:29:16,816 | root | INFO | 200\\n127.0.0.1 - - [22/Aug/2021:18:29:16 +0000] \"POST /score HTTP/1.0\" 200 23 \"-\" \"Python-urllib/3.6\"\\n127.0.0.1 - - [22/Aug/2021:20:04:43 +0000] \"GET /manager/text/list HTTP/1.0\" 404 232 \"-\" \"Mozilla/5.0 zgrab/0.x\"\\n127.0.0.1 - - [22/Aug/2021:20:07:47 +0000] \"GET /phpmyadmin/ HTTP/1.0\" 404 232 \"-\" \"Mozilla/5.0 (Windows NT 10.0; WOW64) AppleWebKit/537.36 (KHTML, like Gecko) Chrome/51.0.2704.103 Safari/537.36\"\\n127.0.0.1 - - [22/Aug/2021:20:18:31 +0000] \"GET /config/getuser?index=0 HTTP/1.0\" 404 232 \"-\" \"Mozilla/5.0 (X11; Ubuntu; Linux x86_64; rv:76.0) Gecko/20100101 Firefox/76.0\"\\n127.0.0.1 - - [22/Aug/2021:22:50:08 +0000] \"GET /manager/html HTTP/1.0\" 404 232 \"-\" \"Mozilla/5.0 zgrab/0.x\"\\n127.0.0.1 - - [23/Aug/2021:04:34:35 +0000] \"GET /?a=fetch&content=%3Cphp%3Edie%28%40md5%28HelloThinkCMF%29%29%3C%2Fphp%3E HTTP/1.0\" 200 7 \"-\" \"Mozilla/5.0 (Windows NT 10.0; Win64; x64) AppleWebKit/537.36 (KHTML, like Gecko) Chrome/78.0.3904.108 Safari/537.36\"\\n127.0.0.1 - - [23/Aug/2021:04:34:35 +0000] \"GET /?XDEBUG_SESSION_START=phpstorm HTTP/1.0\" 200 7 \"-\" \"Mozilla/5.0 (Windows NT 10.0; Win64; x64) AppleWebKit/537.36 (KHTML, like Gecko) Chrome/78.0.3904.108 Safari/537.36\"\\n127.0.0.1 - - [23/Aug/2021:04:34:36 +0000] \"GET /index.php?function=call_user_func_array&s=%2FIndex%2F%5Cthink%5Capp%2Finvokefunction&vars%5B0%5D=md5&vars%5B1%5D%5B%5D=HelloThinkPHP21 HTTP/1.0\" 404 232 \"-\" \"Mozilla/5.0 (Windows NT 10.0; Win64; x64) AppleWebKit/537.36 (KHTML, like Gecko) Chrome/78.0.3904.108 Safari/537.36\"\\n127.0.0.1 - - [23/Aug/2021:04:34:37 +0000] \"POST /api/jsonws/invoke HTTP/1.0\" 404 232 \"-\" \"Mozilla/5.0 (Windows NT 10.0; Win64; x64) AppleWebKit/537.36 (KHTML, like Gecko) Chrome/78.0.3904.108 Safari/537.36\"\\n127.0.0.1 - - [23/Aug/2021:04:34:37 +0000] \"GET /solr/admin/info/system?wt=json HTTP/1.0\" 404 232 \"-\" \"Mozilla/5.0 (Windows NT 10.0; Win64; x64) AppleWebKit/537.36 (KHTML, like Gecko) Chrome/78.0.3904.108 Safari/537.36\"\\n127.0.0.1 - - [23/Aug/2021:04:34:37 +0000] \"POST /vendor/phpunit/phpunit/src/Util/PHP/eval-stdin.php HTTP/1.0\" 404 232 \"-\" \"Mozilla/5.0 (Windows NT 10.0; Win64; x64) AppleWebKit/537.36 (KHTML, like Gecko) Chrome/78.0.3904.108 Safari/537.36\"\\n127.0.0.1 - - [23/Aug/2021:04:34:37 +0000] \"GET /vendor/phpunit/phpunit/src/Util/PHP/eval-stdin.php HTTP/1.0\" 404 232 \"-\" \"Mozilla/5.0 (Windows NT 10.0; Win64; x64) AppleWebKit/537.36 (KHTML, like Gecko) Chrome/78.0.3904.108 Safari/537.36\"\\n127.0.0.1 - - [23/Aug/2021:04:34:37 +0000] \"GET /console/ HTTP/1.0\" 404 232 \"-\" \"Mozilla/5.0 (Windows NT 10.0; Win64; x64) AppleWebKit/537.36 (KHTML, like Gecko) Chrome/78.0.3904.108 Safari/537.36\"\\n127.0.0.1 - - [23/Aug/2021:04:34:37 +0000] \"GET /_ignition/execute-solution HTTP/1.0\" 404 232 \"-\" \"Mozilla/5.0 (Windows NT 10.0; Win64; x64) AppleWebKit/537.36 (KHTML, like Gecko) Chrome/78.0.3904.108 Safari/537.36\"\\n127.0.0.1 - - [23/Aug/2021:04:34:38 +0000] \"POST /Autodiscover/Autodiscover.xml HTTP/1.0\" 404 232 \"-\" \"Mozilla/5.0 (Windows NT 10.0; Win64; x64) AppleWebKit/537.36 (KHTML, like Gecko) Chrome/78.0.3904.108 Safari/537.36\"\\n127.0.0.1 - - [23/Aug/2021:04:34:39 +0000] \"GET /wp-content/plugins/wp-file-manager/readme.txt HTTP/1.0\" 404 232 \"-\" \"Mozilla/5.0 (Windows NT 10.0; Win64; x64) AppleWebKit/537.36 (KHTML, like Gecko) Chrome/78.0.3904.108 Safari/537.36\"\\n127.0.0.1 - - [23/Aug/2021:05:46:46 +0000] \"POST /boaform/admin/formLogin HTTP/1.0\" 404 232 \"http://20.84.225.41:80/admin/login.asp\" \"Mozilla/5.0 (X11; Ubuntu; Linux x86_64; rv:71.0) Gecko/20100101 Firefox/71.0\"\\n127.0.0.1 - - [23/Aug/2021:06:13:01 +0000] \"GET /.env HTTP/1.0\" 404 232 \"-\" \"Mozilla/5.0 (Linux; U; Android 4.4.2; en-US; HM NOTE 1W Build/KOT49H) AppleWebKit/534.30 (KHTML, like Gecko) Version/4.0 UCBrowser/11.0.5.850 U3/0.8.0 Mobile Safari/534.30\"\\n127.0.0.1 - - [23/Aug/2021:06:13:01 +0000] \"POST / HTTP/1.0\" 405 178 \"-\" \"Mozilla/5.0 (Linux; U; Android 4.4.2; en-US; HM NOTE 1W Build/KOT49H) AppleWebKit/534.30 (KHTML, like Gecko) Version/4.0 UCBrowser/11.0.5.850 U3/0.8.0 Mobile Safari/534.30\"\\n127.0.0.1 - - [23/Aug/2021:06:15:19 +0000] \"GET /config/getuser?index=0 HTTP/1.0\" 404 232 \"-\" \"Mozilla/5.0 (X11; Ubuntu; Linux x86_64; rv:76.0) Gecko/20100101 Firefox/76.0\"\\n127.0.0.1 - - [23/Aug/2021:07:28:27 +0000] \"POST /boaform/admin/formLogin HTTP/1.0\" 404 232 \"http://20.84.225.41:80/admin/login.asp\" \"Mozilla/5.0 (X11; Ubuntu; Linux x86_64; rv:71.0) Gecko/20100101 Firefox/71.0\"\\n127.0.0.1 - - [23/Aug/2021:07:47:31 +0000] \"GET /phpmyadmin/index.php HTTP/1.0\" 404 232 \"http://20.84.225.41/phpmyadmin/index.php\" \"Mozilla/4.0 (compatible; MSIE 9.0; Windows NT 6.1)\"\\n127.0.0.1 - - [23/Aug/2021:11:20:58 +0000] \"GET /config/getuser?index=0 HTTP/1.0\" 404 232 \"-\" \"Mozilla/5.0 (X11; Ubuntu; Linux x86_64; rv:76.0) Gecko/20100101 Firefox/76.0\"\\n127.0.0.1 - - [23/Aug/2021:11:26:28 +0000] \"POST /boaform/admin/formLogin HTTP/1.0\" 404 232 \"http://20.84.225.41:80/admin/login.asp\" \"Mozilla/5.0 (X11; Ubuntu; Linux x86_64; rv:71.0) Gecko/20100101 Firefox/71.0\"\\n127.0.0.1 - - [23/Aug/2021:12:51:08 +0000] \"GET /zdrtyhmcfghn HTTP/1.0\" 404 232 \"-\" \"Mozilla/5.0 (Windows NT 10.0; Win64; x64) AppleWebKit/537.36 (KHTML, like Gecko) Chrome/89.0.4389.90 Safari/537.36\"\\n127.0.0.1 - - [23/Aug/2021:13:22:02 +0000] \"GET /TP/public/index.php HTTP/1.0\" 404 232 \"-\" \"Mozilla/5.0 (Windows; U; Windows NT 6.0;en-US; rv:1.9.2) Gecko/20100115 Firefox/3.6)\"\\n127.0.0.1 - - [23/Aug/2021:13:22:02 +0000] \"GET /TP/index.php HTTP/1.0\" 404 232 \"-\" \"Mozilla/5.0 (Windows; U; Windows NT 6.0;en-US; rv:1.9.2) Gecko/20100115 Firefox/3.6)\"\\n127.0.0.1 - - [23/Aug/2021:13:22:02 +0000] \"GET /thinkphp/html/public/index.php HTTP/1.0\" 404 232 \"-\" \"Mozilla/5.0 (Windows; U; Windows NT 6.0;en-US; rv:1.9.2) Gecko/20100115 Firefox/3.6)\"\\n127.0.0.1 - - [23/Aug/2021:13:22:03 +0000] \"GET /html/public/index.php HTTP/1.0\" 404 232 \"-\" \"Mozilla/5.0 (Windows; U; Windows NT 6.0;en-US; rv:1.9.2) Gecko/20100115 Firefox/3.6)\"\\n127.0.0.1 - - [23/Aug/2021:13:22:03 +0000] \"GET /public/index.php HTTP/1.0\" 404 232 \"-\" \"Mozilla/5.0 (Windows; U; Windows NT 6.0;en-US; rv:1.9.2) Gecko/20100115 Firefox/3.6)\"\\n127.0.0.1 - - [23/Aug/2021:13:22:04 +0000] \"GET /TP/html/public/index.php HTTP/1.0\" 404 232 \"-\" \"Mozilla/5.0 (Windows; U; Windows NT 6.0;en-US; rv:1.9.2) Gecko/20100115 Firefox/3.6)\"\\n127.0.0.1 - - [23/Aug/2021:13:22:04 +0000] \"GET /elrekt.php HTTP/1.0\" 404 232 \"-\" \"Mozilla/5.0 (Windows; U; Windows NT 6.0;en-US; rv:1.9.2) Gecko/20100115 Firefox/3.6)\"\\n127.0.0.1 - - [23/Aug/2021:13:22:05 +0000] \"GET /index.php HTTP/1.0\" 404 232 \"-\" \"Mozilla/5.0 (Windows; U; Windows NT 6.0;en-US; rv:1.9.2) Gecko/20100115 Firefox/3.6)\"\\n127.0.0.1 - - [23/Aug/2021:13:29:37 +0000] \"POST /boaform/admin/formLogin HTTP/1.0\" 404 232 \"http://20.84.225.41:80/admin/login.asp\" \"Mozilla/5.0 (X11; Ubuntu; Linux x86_64; rv:71.0) Gecko/20100101 Firefox/71.0\"\\n2021-08-23 13:51:10,153 | root | INFO | Validation Request Content-Type\\n2021-08-23 13:51:10,158 | root | INFO | Scoring Timer is set to 60.0 seconds\\n2021-08-23 13:51:10,663 | root | INFO | 200\\n127.0.0.1 - - [23/Aug/2021:13:51:10 +0000] \"POST /score HTTP/1.0\" 200 23 \"-\" \"python-requests/2.26.0\"\\n127.0.0.1 - - [23/Aug/2021:13:55:19 +0000] \"GET /phpmyadmin/scripts/setup.php HTTP/1.0\" 404 232 \"-\" \"Go-http-client/1.1\"\\n'"
          },
          "metadata": {}
        }
      ],
      "execution_count": 37,
      "metadata": {
        "collapsed": true,
        "jupyter": {
          "source_hidden": false,
          "outputs_hidden": false
        },
        "nteract": {
          "transient": {
            "deleting": false
          }
        },
        "gather": {
          "logged": 1629727539707
        }
      }
    },
    {
      "cell_type": "code",
      "source": [
        "aci_service.delete()"
      ],
      "outputs": [],
      "execution_count": null,
      "metadata": {
        "collapsed": true,
        "jupyter": {
          "source_hidden": false,
          "outputs_hidden": false
        },
        "nteract": {
          "transient": {
            "deleting": false
          }
        }
      }
    }
  ],
  "metadata": {
    "kernel_info": {
      "name": "python3"
    },
    "kernelspec": {
      "name": "python3",
      "language": "python",
      "display_name": "Python 3"
    },
    "language_info": {
      "name": "python",
      "version": "3.6.9",
      "mimetype": "text/x-python",
      "codemirror_mode": {
        "name": "ipython",
        "version": 3
      },
      "pygments_lexer": "ipython3",
      "nbconvert_exporter": "python",
      "file_extension": ".py"
    },
    "nteract": {
      "version": "nteract-front-end@1.0.0"
    },
    "microsoft": {
      "host": {
        "AzureML": {
          "notebookHasBeenCompleted": true
        }
      }
    }
  },
  "nbformat": 4,
  "nbformat_minor": 2
}